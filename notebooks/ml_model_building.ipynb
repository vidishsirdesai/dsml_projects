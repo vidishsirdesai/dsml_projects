{
 "cells": [
  {
   "cell_type": "code",
   "execution_count": 1,
   "metadata": {},
   "outputs": [],
   "source": [
    "import numpy as np\n",
    "import pandas as pd\n",
    "import matplotlib.pyplot as plt\n",
    "import seaborn as sns\n",
    "from sklearn.preprocessing import StandardScaler\n",
    "from sklearn.linear_model import LogisticRegression\n",
    "from sklearn.neighbors import KNeighborsClassifier\n",
    "from sklearn.tree import DecisionTreeClassifier\n",
    "from sklearn.ensemble import RandomForestClassifier\n",
    "from sklearn.ensemble import GradientBoostingClassifier\n",
    "from sklearn.svm import SVC\n",
    "from sklearn.metrics import accuracy_score\n",
    "from sklearn.metrics import confusion_matrix\n",
    "from sklearn.metrics import ConfusionMatrixDisplay\n",
    "from sklearn.metrics import precision_score\n",
    "from sklearn.metrics import recall_score\n",
    "from sklearn.metrics import f1_score\n",
    "from sklearn.metrics import classification_report\n",
    "import warnings\n",
    "import time"
   ]
  },
  {
   "cell_type": "code",
   "execution_count": 2,
   "metadata": {},
   "outputs": [],
   "source": [
    "pd.set_option(\"display.max_columns\", None)\n",
    "sns.set_theme(style = \"whitegrid\")\n",
    "warnings.filterwarnings(\"ignore\")"
   ]
  },
  {
   "cell_type": "code",
   "execution_count": 3,
   "metadata": {},
   "outputs": [],
   "source": [
    "x = pd.read_csv(\"../datasets/x.csv\")\n",
    "x_train = pd.read_csv(\"../datasets/x_train.csv\")\n",
    "x_test = pd.read_csv(\"../datasets/x_test.csv\")"
   ]
  },
  {
   "cell_type": "code",
   "execution_count": 4,
   "metadata": {},
   "outputs": [
    {
     "data": {
      "text/html": [
       "<div>\n",
       "<style scoped>\n",
       "    .dataframe tbody tr th:only-of-type {\n",
       "        vertical-align: middle;\n",
       "    }\n",
       "\n",
       "    .dataframe tbody tr th {\n",
       "        vertical-align: top;\n",
       "    }\n",
       "\n",
       "    .dataframe thead th {\n",
       "        text-align: right;\n",
       "    }\n",
       "</style>\n",
       "<table border=\"1\" class=\"dataframe\">\n",
       "  <thead>\n",
       "    <tr style=\"text-align: right;\">\n",
       "      <th></th>\n",
       "      <th>Unnamed: 0</th>\n",
       "      <th>duration</th>\n",
       "      <th>srcbytes</th>\n",
       "      <th>dstbytes</th>\n",
       "      <th>land</th>\n",
       "      <th>wrongfragment</th>\n",
       "      <th>urgent</th>\n",
       "      <th>hot</th>\n",
       "      <th>numfailedlogins</th>\n",
       "      <th>loggedin</th>\n",
       "      <th>numcompromised</th>\n",
       "      <th>rootshell</th>\n",
       "      <th>suattempted</th>\n",
       "      <th>numfilecreations</th>\n",
       "      <th>numshells</th>\n",
       "      <th>numaccessfiles</th>\n",
       "      <th>ishostlogin</th>\n",
       "      <th>count</th>\n",
       "      <th>srvcount</th>\n",
       "      <th>serrorrate</th>\n",
       "      <th>rerrorrate</th>\n",
       "      <th>samesrvrate</th>\n",
       "      <th>diffsrvrate</th>\n",
       "      <th>srvdiffhostrate</th>\n",
       "      <th>dsthostcount</th>\n",
       "      <th>dsthostsrvcount</th>\n",
       "      <th>dsthostdiffsrvrate</th>\n",
       "      <th>dsthostsamesrcportrate</th>\n",
       "      <th>dsthostsrvdiffhostrate</th>\n",
       "      <th>protocol_encoded</th>\n",
       "      <th>service_encoded</th>\n",
       "      <th>flag_encoded</th>\n",
       "    </tr>\n",
       "  </thead>\n",
       "  <tbody>\n",
       "    <tr>\n",
       "      <th>0</th>\n",
       "      <td>0</td>\n",
       "      <td>0</td>\n",
       "      <td>491</td>\n",
       "      <td>0</td>\n",
       "      <td>0</td>\n",
       "      <td>0</td>\n",
       "      <td>0</td>\n",
       "      <td>0</td>\n",
       "      <td>0</td>\n",
       "      <td>0</td>\n",
       "      <td>0</td>\n",
       "      <td>0</td>\n",
       "      <td>0</td>\n",
       "      <td>0</td>\n",
       "      <td>0</td>\n",
       "      <td>0</td>\n",
       "      <td>0</td>\n",
       "      <td>2</td>\n",
       "      <td>2</td>\n",
       "      <td>0.0</td>\n",
       "      <td>0.0</td>\n",
       "      <td>1.00</td>\n",
       "      <td>0.00</td>\n",
       "      <td>0.00</td>\n",
       "      <td>150</td>\n",
       "      <td>25</td>\n",
       "      <td>0.03</td>\n",
       "      <td>0.17</td>\n",
       "      <td>0.00</td>\n",
       "      <td>80114.288249</td>\n",
       "      <td>143597.026531</td>\n",
       "      <td>20938.455295</td>\n",
       "    </tr>\n",
       "    <tr>\n",
       "      <th>1</th>\n",
       "      <td>1</td>\n",
       "      <td>0</td>\n",
       "      <td>146</td>\n",
       "      <td>0</td>\n",
       "      <td>0</td>\n",
       "      <td>0</td>\n",
       "      <td>0</td>\n",
       "      <td>0</td>\n",
       "      <td>0</td>\n",
       "      <td>0</td>\n",
       "      <td>0</td>\n",
       "      <td>0</td>\n",
       "      <td>0</td>\n",
       "      <td>0</td>\n",
       "      <td>0</td>\n",
       "      <td>0</td>\n",
       "      <td>0</td>\n",
       "      <td>13</td>\n",
       "      <td>1</td>\n",
       "      <td>0.0</td>\n",
       "      <td>0.0</td>\n",
       "      <td>0.08</td>\n",
       "      <td>0.15</td>\n",
       "      <td>0.00</td>\n",
       "      <td>255</td>\n",
       "      <td>1</td>\n",
       "      <td>0.60</td>\n",
       "      <td>0.88</td>\n",
       "      <td>0.00</td>\n",
       "      <td>141.215034</td>\n",
       "      <td>312548.734113</td>\n",
       "      <td>20938.455295</td>\n",
       "    </tr>\n",
       "    <tr>\n",
       "      <th>2</th>\n",
       "      <td>2</td>\n",
       "      <td>0</td>\n",
       "      <td>0</td>\n",
       "      <td>0</td>\n",
       "      <td>0</td>\n",
       "      <td>0</td>\n",
       "      <td>0</td>\n",
       "      <td>0</td>\n",
       "      <td>0</td>\n",
       "      <td>0</td>\n",
       "      <td>0</td>\n",
       "      <td>0</td>\n",
       "      <td>0</td>\n",
       "      <td>0</td>\n",
       "      <td>0</td>\n",
       "      <td>0</td>\n",
       "      <td>0</td>\n",
       "      <td>123</td>\n",
       "      <td>6</td>\n",
       "      <td>1.0</td>\n",
       "      <td>0.0</td>\n",
       "      <td>0.05</td>\n",
       "      <td>0.07</td>\n",
       "      <td>0.00</td>\n",
       "      <td>255</td>\n",
       "      <td>26</td>\n",
       "      <td>0.05</td>\n",
       "      <td>0.00</td>\n",
       "      <td>0.00</td>\n",
       "      <td>80114.288249</td>\n",
       "      <td>90075.670572</td>\n",
       "      <td>0.025365</td>\n",
       "    </tr>\n",
       "    <tr>\n",
       "      <th>3</th>\n",
       "      <td>3</td>\n",
       "      <td>0</td>\n",
       "      <td>232</td>\n",
       "      <td>8153</td>\n",
       "      <td>0</td>\n",
       "      <td>0</td>\n",
       "      <td>0</td>\n",
       "      <td>0</td>\n",
       "      <td>0</td>\n",
       "      <td>1</td>\n",
       "      <td>0</td>\n",
       "      <td>0</td>\n",
       "      <td>0</td>\n",
       "      <td>0</td>\n",
       "      <td>0</td>\n",
       "      <td>0</td>\n",
       "      <td>0</td>\n",
       "      <td>5</td>\n",
       "      <td>5</td>\n",
       "      <td>0.2</td>\n",
       "      <td>0.0</td>\n",
       "      <td>1.00</td>\n",
       "      <td>0.00</td>\n",
       "      <td>0.00</td>\n",
       "      <td>30</td>\n",
       "      <td>255</td>\n",
       "      <td>0.00</td>\n",
       "      <td>0.03</td>\n",
       "      <td>0.04</td>\n",
       "      <td>80114.288249</td>\n",
       "      <td>6006.811369</td>\n",
       "      <td>20938.455295</td>\n",
       "    </tr>\n",
       "    <tr>\n",
       "      <th>4</th>\n",
       "      <td>4</td>\n",
       "      <td>0</td>\n",
       "      <td>199</td>\n",
       "      <td>420</td>\n",
       "      <td>0</td>\n",
       "      <td>0</td>\n",
       "      <td>0</td>\n",
       "      <td>0</td>\n",
       "      <td>0</td>\n",
       "      <td>1</td>\n",
       "      <td>0</td>\n",
       "      <td>0</td>\n",
       "      <td>0</td>\n",
       "      <td>0</td>\n",
       "      <td>0</td>\n",
       "      <td>0</td>\n",
       "      <td>0</td>\n",
       "      <td>30</td>\n",
       "      <td>32</td>\n",
       "      <td>0.0</td>\n",
       "      <td>0.0</td>\n",
       "      <td>1.00</td>\n",
       "      <td>0.00</td>\n",
       "      <td>0.09</td>\n",
       "      <td>255</td>\n",
       "      <td>255</td>\n",
       "      <td>0.00</td>\n",
       "      <td>0.00</td>\n",
       "      <td>0.00</td>\n",
       "      <td>80114.288249</td>\n",
       "      <td>6006.811369</td>\n",
       "      <td>20938.455295</td>\n",
       "    </tr>\n",
       "  </tbody>\n",
       "</table>\n",
       "</div>"
      ],
      "text/plain": [
       "   Unnamed: 0  duration  srcbytes  dstbytes  land  wrongfragment  urgent  hot  \\\n",
       "0           0         0       491         0     0              0       0    0   \n",
       "1           1         0       146         0     0              0       0    0   \n",
       "2           2         0         0         0     0              0       0    0   \n",
       "3           3         0       232      8153     0              0       0    0   \n",
       "4           4         0       199       420     0              0       0    0   \n",
       "\n",
       "   numfailedlogins  loggedin  numcompromised  rootshell  suattempted  \\\n",
       "0                0         0               0          0            0   \n",
       "1                0         0               0          0            0   \n",
       "2                0         0               0          0            0   \n",
       "3                0         1               0          0            0   \n",
       "4                0         1               0          0            0   \n",
       "\n",
       "   numfilecreations  numshells  numaccessfiles  ishostlogin  count  srvcount  \\\n",
       "0                 0          0               0            0      2         2   \n",
       "1                 0          0               0            0     13         1   \n",
       "2                 0          0               0            0    123         6   \n",
       "3                 0          0               0            0      5         5   \n",
       "4                 0          0               0            0     30        32   \n",
       "\n",
       "   serrorrate  rerrorrate  samesrvrate  diffsrvrate  srvdiffhostrate  \\\n",
       "0         0.0         0.0         1.00         0.00             0.00   \n",
       "1         0.0         0.0         0.08         0.15             0.00   \n",
       "2         1.0         0.0         0.05         0.07             0.00   \n",
       "3         0.2         0.0         1.00         0.00             0.00   \n",
       "4         0.0         0.0         1.00         0.00             0.09   \n",
       "\n",
       "   dsthostcount  dsthostsrvcount  dsthostdiffsrvrate  dsthostsamesrcportrate  \\\n",
       "0           150               25                0.03                    0.17   \n",
       "1           255                1                0.60                    0.88   \n",
       "2           255               26                0.05                    0.00   \n",
       "3            30              255                0.00                    0.03   \n",
       "4           255              255                0.00                    0.00   \n",
       "\n",
       "   dsthostsrvdiffhostrate  protocol_encoded  service_encoded  flag_encoded  \n",
       "0                    0.00      80114.288249    143597.026531  20938.455295  \n",
       "1                    0.00        141.215034    312548.734113  20938.455295  \n",
       "2                    0.00      80114.288249     90075.670572      0.025365  \n",
       "3                    0.04      80114.288249      6006.811369  20938.455295  \n",
       "4                    0.00      80114.288249      6006.811369  20938.455295  "
      ]
     },
     "execution_count": 4,
     "metadata": {},
     "output_type": "execute_result"
    }
   ],
   "source": [
    "x.head()"
   ]
  },
  {
   "cell_type": "code",
   "execution_count": 5,
   "metadata": {},
   "outputs": [
    {
     "data": {
      "text/html": [
       "<div>\n",
       "<style scoped>\n",
       "    .dataframe tbody tr th:only-of-type {\n",
       "        vertical-align: middle;\n",
       "    }\n",
       "\n",
       "    .dataframe tbody tr th {\n",
       "        vertical-align: top;\n",
       "    }\n",
       "\n",
       "    .dataframe thead th {\n",
       "        text-align: right;\n",
       "    }\n",
       "</style>\n",
       "<table border=\"1\" class=\"dataframe\">\n",
       "  <thead>\n",
       "    <tr style=\"text-align: right;\">\n",
       "      <th></th>\n",
       "      <th>Unnamed: 0</th>\n",
       "      <th>duration</th>\n",
       "      <th>srcbytes</th>\n",
       "      <th>dstbytes</th>\n",
       "      <th>land</th>\n",
       "      <th>wrongfragment</th>\n",
       "      <th>urgent</th>\n",
       "      <th>hot</th>\n",
       "      <th>numfailedlogins</th>\n",
       "      <th>loggedin</th>\n",
       "      <th>numcompromised</th>\n",
       "      <th>rootshell</th>\n",
       "      <th>suattempted</th>\n",
       "      <th>numfilecreations</th>\n",
       "      <th>numshells</th>\n",
       "      <th>numaccessfiles</th>\n",
       "      <th>ishostlogin</th>\n",
       "      <th>count</th>\n",
       "      <th>srvcount</th>\n",
       "      <th>serrorrate</th>\n",
       "      <th>rerrorrate</th>\n",
       "      <th>samesrvrate</th>\n",
       "      <th>diffsrvrate</th>\n",
       "      <th>srvdiffhostrate</th>\n",
       "      <th>dsthostcount</th>\n",
       "      <th>dsthostsrvcount</th>\n",
       "      <th>dsthostdiffsrvrate</th>\n",
       "      <th>dsthostsamesrcportrate</th>\n",
       "      <th>dsthostsrvdiffhostrate</th>\n",
       "      <th>protocol_encoded</th>\n",
       "      <th>service_encoded</th>\n",
       "      <th>flag_encoded</th>\n",
       "    </tr>\n",
       "  </thead>\n",
       "  <tbody>\n",
       "    <tr>\n",
       "      <th>0</th>\n",
       "      <td>103864</td>\n",
       "      <td>0</td>\n",
       "      <td>43</td>\n",
       "      <td>182</td>\n",
       "      <td>0</td>\n",
       "      <td>0</td>\n",
       "      <td>0</td>\n",
       "      <td>0</td>\n",
       "      <td>0</td>\n",
       "      <td>0</td>\n",
       "      <td>0</td>\n",
       "      <td>0</td>\n",
       "      <td>0</td>\n",
       "      <td>0</td>\n",
       "      <td>0</td>\n",
       "      <td>0</td>\n",
       "      <td>0</td>\n",
       "      <td>101</td>\n",
       "      <td>181</td>\n",
       "      <td>0.00</td>\n",
       "      <td>0.0</td>\n",
       "      <td>1.00</td>\n",
       "      <td>0.00</td>\n",
       "      <td>0.01</td>\n",
       "      <td>255</td>\n",
       "      <td>255</td>\n",
       "      <td>0.00</td>\n",
       "      <td>0.00</td>\n",
       "      <td>0.00</td>\n",
       "      <td>141.215034</td>\n",
       "      <td>130.256663</td>\n",
       "      <td>20938.455295</td>\n",
       "    </tr>\n",
       "    <tr>\n",
       "      <th>1</th>\n",
       "      <td>64100</td>\n",
       "      <td>0</td>\n",
       "      <td>28</td>\n",
       "      <td>0</td>\n",
       "      <td>0</td>\n",
       "      <td>3</td>\n",
       "      <td>0</td>\n",
       "      <td>0</td>\n",
       "      <td>0</td>\n",
       "      <td>0</td>\n",
       "      <td>0</td>\n",
       "      <td>0</td>\n",
       "      <td>0</td>\n",
       "      <td>0</td>\n",
       "      <td>0</td>\n",
       "      <td>0</td>\n",
       "      <td>0</td>\n",
       "      <td>73</td>\n",
       "      <td>73</td>\n",
       "      <td>0.00</td>\n",
       "      <td>0.0</td>\n",
       "      <td>1.00</td>\n",
       "      <td>0.00</td>\n",
       "      <td>0.00</td>\n",
       "      <td>255</td>\n",
       "      <td>73</td>\n",
       "      <td>0.64</td>\n",
       "      <td>0.29</td>\n",
       "      <td>0.00</td>\n",
       "      <td>141.215034</td>\n",
       "      <td>90075.670572</td>\n",
       "      <td>20938.455295</td>\n",
       "    </tr>\n",
       "    <tr>\n",
       "      <th>2</th>\n",
       "      <td>121047</td>\n",
       "      <td>0</td>\n",
       "      <td>311</td>\n",
       "      <td>1014</td>\n",
       "      <td>0</td>\n",
       "      <td>0</td>\n",
       "      <td>0</td>\n",
       "      <td>0</td>\n",
       "      <td>0</td>\n",
       "      <td>1</td>\n",
       "      <td>0</td>\n",
       "      <td>0</td>\n",
       "      <td>0</td>\n",
       "      <td>0</td>\n",
       "      <td>0</td>\n",
       "      <td>0</td>\n",
       "      <td>0</td>\n",
       "      <td>15</td>\n",
       "      <td>27</td>\n",
       "      <td>0.00</td>\n",
       "      <td>0.0</td>\n",
       "      <td>1.00</td>\n",
       "      <td>0.00</td>\n",
       "      <td>0.15</td>\n",
       "      <td>32</td>\n",
       "      <td>255</td>\n",
       "      <td>0.00</td>\n",
       "      <td>0.03</td>\n",
       "      <td>0.05</td>\n",
       "      <td>80114.288249</td>\n",
       "      <td>6006.811369</td>\n",
       "      <td>20938.455295</td>\n",
       "    </tr>\n",
       "    <tr>\n",
       "      <th>3</th>\n",
       "      <td>10100</td>\n",
       "      <td>0</td>\n",
       "      <td>3775</td>\n",
       "      <td>0</td>\n",
       "      <td>0</td>\n",
       "      <td>0</td>\n",
       "      <td>0</td>\n",
       "      <td>0</td>\n",
       "      <td>0</td>\n",
       "      <td>0</td>\n",
       "      <td>0</td>\n",
       "      <td>0</td>\n",
       "      <td>0</td>\n",
       "      <td>0</td>\n",
       "      <td>0</td>\n",
       "      <td>0</td>\n",
       "      <td>0</td>\n",
       "      <td>20</td>\n",
       "      <td>1</td>\n",
       "      <td>0.05</td>\n",
       "      <td>0.0</td>\n",
       "      <td>0.05</td>\n",
       "      <td>0.75</td>\n",
       "      <td>0.00</td>\n",
       "      <td>255</td>\n",
       "      <td>1</td>\n",
       "      <td>0.07</td>\n",
       "      <td>0.45</td>\n",
       "      <td>0.00</td>\n",
       "      <td>80114.288249</td>\n",
       "      <td>312548.734113</td>\n",
       "      <td>20938.455295</td>\n",
       "    </tr>\n",
       "    <tr>\n",
       "      <th>4</th>\n",
       "      <td>69891</td>\n",
       "      <td>0</td>\n",
       "      <td>0</td>\n",
       "      <td>0</td>\n",
       "      <td>0</td>\n",
       "      <td>0</td>\n",
       "      <td>0</td>\n",
       "      <td>0</td>\n",
       "      <td>0</td>\n",
       "      <td>0</td>\n",
       "      <td>0</td>\n",
       "      <td>0</td>\n",
       "      <td>0</td>\n",
       "      <td>0</td>\n",
       "      <td>0</td>\n",
       "      <td>0</td>\n",
       "      <td>0</td>\n",
       "      <td>212</td>\n",
       "      <td>20</td>\n",
       "      <td>1.00</td>\n",
       "      <td>0.0</td>\n",
       "      <td>0.09</td>\n",
       "      <td>0.07</td>\n",
       "      <td>0.00</td>\n",
       "      <td>255</td>\n",
       "      <td>20</td>\n",
       "      <td>0.08</td>\n",
       "      <td>0.00</td>\n",
       "      <td>0.00</td>\n",
       "      <td>80114.288249</td>\n",
       "      <td>0.104730</td>\n",
       "      <td>0.025365</td>\n",
       "    </tr>\n",
       "  </tbody>\n",
       "</table>\n",
       "</div>"
      ],
      "text/plain": [
       "   Unnamed: 0  duration  srcbytes  dstbytes  land  wrongfragment  urgent  hot  \\\n",
       "0      103864         0        43       182     0              0       0    0   \n",
       "1       64100         0        28         0     0              3       0    0   \n",
       "2      121047         0       311      1014     0              0       0    0   \n",
       "3       10100         0      3775         0     0              0       0    0   \n",
       "4       69891         0         0         0     0              0       0    0   \n",
       "\n",
       "   numfailedlogins  loggedin  numcompromised  rootshell  suattempted  \\\n",
       "0                0         0               0          0            0   \n",
       "1                0         0               0          0            0   \n",
       "2                0         1               0          0            0   \n",
       "3                0         0               0          0            0   \n",
       "4                0         0               0          0            0   \n",
       "\n",
       "   numfilecreations  numshells  numaccessfiles  ishostlogin  count  srvcount  \\\n",
       "0                 0          0               0            0    101       181   \n",
       "1                 0          0               0            0     73        73   \n",
       "2                 0          0               0            0     15        27   \n",
       "3                 0          0               0            0     20         1   \n",
       "4                 0          0               0            0    212        20   \n",
       "\n",
       "   serrorrate  rerrorrate  samesrvrate  diffsrvrate  srvdiffhostrate  \\\n",
       "0        0.00         0.0         1.00         0.00             0.01   \n",
       "1        0.00         0.0         1.00         0.00             0.00   \n",
       "2        0.00         0.0         1.00         0.00             0.15   \n",
       "3        0.05         0.0         0.05         0.75             0.00   \n",
       "4        1.00         0.0         0.09         0.07             0.00   \n",
       "\n",
       "   dsthostcount  dsthostsrvcount  dsthostdiffsrvrate  dsthostsamesrcportrate  \\\n",
       "0           255              255                0.00                    0.00   \n",
       "1           255               73                0.64                    0.29   \n",
       "2            32              255                0.00                    0.03   \n",
       "3           255                1                0.07                    0.45   \n",
       "4           255               20                0.08                    0.00   \n",
       "\n",
       "   dsthostsrvdiffhostrate  protocol_encoded  service_encoded  flag_encoded  \n",
       "0                    0.00        141.215034       130.256663  20938.455295  \n",
       "1                    0.00        141.215034     90075.670572  20938.455295  \n",
       "2                    0.05      80114.288249      6006.811369  20938.455295  \n",
       "3                    0.00      80114.288249    312548.734113  20938.455295  \n",
       "4                    0.00      80114.288249         0.104730      0.025365  "
      ]
     },
     "execution_count": 5,
     "metadata": {},
     "output_type": "execute_result"
    }
   ],
   "source": [
    "x_train.head()"
   ]
  },
  {
   "cell_type": "code",
   "execution_count": 6,
   "metadata": {},
   "outputs": [
    {
     "data": {
      "text/html": [
       "<div>\n",
       "<style scoped>\n",
       "    .dataframe tbody tr th:only-of-type {\n",
       "        vertical-align: middle;\n",
       "    }\n",
       "\n",
       "    .dataframe tbody tr th {\n",
       "        vertical-align: top;\n",
       "    }\n",
       "\n",
       "    .dataframe thead th {\n",
       "        text-align: right;\n",
       "    }\n",
       "</style>\n",
       "<table border=\"1\" class=\"dataframe\">\n",
       "  <thead>\n",
       "    <tr style=\"text-align: right;\">\n",
       "      <th></th>\n",
       "      <th>Unnamed: 0</th>\n",
       "      <th>duration</th>\n",
       "      <th>srcbytes</th>\n",
       "      <th>dstbytes</th>\n",
       "      <th>land</th>\n",
       "      <th>wrongfragment</th>\n",
       "      <th>urgent</th>\n",
       "      <th>hot</th>\n",
       "      <th>numfailedlogins</th>\n",
       "      <th>loggedin</th>\n",
       "      <th>numcompromised</th>\n",
       "      <th>rootshell</th>\n",
       "      <th>suattempted</th>\n",
       "      <th>numfilecreations</th>\n",
       "      <th>numshells</th>\n",
       "      <th>numaccessfiles</th>\n",
       "      <th>ishostlogin</th>\n",
       "      <th>count</th>\n",
       "      <th>srvcount</th>\n",
       "      <th>serrorrate</th>\n",
       "      <th>rerrorrate</th>\n",
       "      <th>samesrvrate</th>\n",
       "      <th>diffsrvrate</th>\n",
       "      <th>srvdiffhostrate</th>\n",
       "      <th>dsthostcount</th>\n",
       "      <th>dsthostsrvcount</th>\n",
       "      <th>dsthostdiffsrvrate</th>\n",
       "      <th>dsthostsamesrcportrate</th>\n",
       "      <th>dsthostsrvdiffhostrate</th>\n",
       "      <th>protocol_encoded</th>\n",
       "      <th>service_encoded</th>\n",
       "      <th>flag_encoded</th>\n",
       "    </tr>\n",
       "  </thead>\n",
       "  <tbody>\n",
       "    <tr>\n",
       "      <th>0</th>\n",
       "      <td>43367</td>\n",
       "      <td>0</td>\n",
       "      <td>105</td>\n",
       "      <td>0</td>\n",
       "      <td>0</td>\n",
       "      <td>0</td>\n",
       "      <td>0</td>\n",
       "      <td>0</td>\n",
       "      <td>0</td>\n",
       "      <td>0</td>\n",
       "      <td>0</td>\n",
       "      <td>0</td>\n",
       "      <td>0</td>\n",
       "      <td>0</td>\n",
       "      <td>0</td>\n",
       "      <td>0</td>\n",
       "      <td>0</td>\n",
       "      <td>2</td>\n",
       "      <td>2</td>\n",
       "      <td>0.0</td>\n",
       "      <td>0.0</td>\n",
       "      <td>1.0</td>\n",
       "      <td>0.0</td>\n",
       "      <td>0.00</td>\n",
       "      <td>212</td>\n",
       "      <td>206</td>\n",
       "      <td>0.01</td>\n",
       "      <td>0.01</td>\n",
       "      <td>0.00</td>\n",
       "      <td>141.215034</td>\n",
       "      <td>90075.670572</td>\n",
       "      <td>20938.455295</td>\n",
       "    </tr>\n",
       "    <tr>\n",
       "      <th>1</th>\n",
       "      <td>106111</td>\n",
       "      <td>0</td>\n",
       "      <td>723</td>\n",
       "      <td>328</td>\n",
       "      <td>0</td>\n",
       "      <td>0</td>\n",
       "      <td>0</td>\n",
       "      <td>0</td>\n",
       "      <td>0</td>\n",
       "      <td>1</td>\n",
       "      <td>0</td>\n",
       "      <td>0</td>\n",
       "      <td>0</td>\n",
       "      <td>0</td>\n",
       "      <td>0</td>\n",
       "      <td>0</td>\n",
       "      <td>0</td>\n",
       "      <td>1</td>\n",
       "      <td>1</td>\n",
       "      <td>0.0</td>\n",
       "      <td>0.0</td>\n",
       "      <td>1.0</td>\n",
       "      <td>0.0</td>\n",
       "      <td>0.00</td>\n",
       "      <td>120</td>\n",
       "      <td>138</td>\n",
       "      <td>0.02</td>\n",
       "      <td>0.01</td>\n",
       "      <td>0.02</td>\n",
       "      <td>80114.288249</td>\n",
       "      <td>32667.764255</td>\n",
       "      <td>20938.455295</td>\n",
       "    </tr>\n",
       "    <tr>\n",
       "      <th>2</th>\n",
       "      <td>117860</td>\n",
       "      <td>0</td>\n",
       "      <td>339</td>\n",
       "      <td>1497</td>\n",
       "      <td>0</td>\n",
       "      <td>0</td>\n",
       "      <td>0</td>\n",
       "      <td>0</td>\n",
       "      <td>0</td>\n",
       "      <td>1</td>\n",
       "      <td>0</td>\n",
       "      <td>0</td>\n",
       "      <td>0</td>\n",
       "      <td>0</td>\n",
       "      <td>0</td>\n",
       "      <td>0</td>\n",
       "      <td>0</td>\n",
       "      <td>13</td>\n",
       "      <td>13</td>\n",
       "      <td>0.0</td>\n",
       "      <td>0.0</td>\n",
       "      <td>1.0</td>\n",
       "      <td>0.0</td>\n",
       "      <td>0.00</td>\n",
       "      <td>51</td>\n",
       "      <td>247</td>\n",
       "      <td>0.00</td>\n",
       "      <td>0.02</td>\n",
       "      <td>0.13</td>\n",
       "      <td>80114.288249</td>\n",
       "      <td>6006.811369</td>\n",
       "      <td>20938.455295</td>\n",
       "    </tr>\n",
       "    <tr>\n",
       "      <th>3</th>\n",
       "      <td>8857</td>\n",
       "      <td>0</td>\n",
       "      <td>293</td>\n",
       "      <td>807</td>\n",
       "      <td>0</td>\n",
       "      <td>0</td>\n",
       "      <td>0</td>\n",
       "      <td>0</td>\n",
       "      <td>0</td>\n",
       "      <td>1</td>\n",
       "      <td>0</td>\n",
       "      <td>0</td>\n",
       "      <td>0</td>\n",
       "      <td>0</td>\n",
       "      <td>0</td>\n",
       "      <td>0</td>\n",
       "      <td>0</td>\n",
       "      <td>5</td>\n",
       "      <td>5</td>\n",
       "      <td>0.0</td>\n",
       "      <td>0.0</td>\n",
       "      <td>1.0</td>\n",
       "      <td>0.0</td>\n",
       "      <td>0.00</td>\n",
       "      <td>227</td>\n",
       "      <td>255</td>\n",
       "      <td>0.00</td>\n",
       "      <td>0.00</td>\n",
       "      <td>0.01</td>\n",
       "      <td>80114.288249</td>\n",
       "      <td>6006.811369</td>\n",
       "      <td>20938.455295</td>\n",
       "    </tr>\n",
       "    <tr>\n",
       "      <th>4</th>\n",
       "      <td>31875</td>\n",
       "      <td>0</td>\n",
       "      <td>46</td>\n",
       "      <td>46</td>\n",
       "      <td>0</td>\n",
       "      <td>0</td>\n",
       "      <td>0</td>\n",
       "      <td>0</td>\n",
       "      <td>0</td>\n",
       "      <td>0</td>\n",
       "      <td>0</td>\n",
       "      <td>0</td>\n",
       "      <td>0</td>\n",
       "      <td>0</td>\n",
       "      <td>0</td>\n",
       "      <td>0</td>\n",
       "      <td>0</td>\n",
       "      <td>13</td>\n",
       "      <td>19</td>\n",
       "      <td>0.0</td>\n",
       "      <td>0.0</td>\n",
       "      <td>1.0</td>\n",
       "      <td>0.0</td>\n",
       "      <td>0.16</td>\n",
       "      <td>255</td>\n",
       "      <td>254</td>\n",
       "      <td>0.01</td>\n",
       "      <td>0.00</td>\n",
       "      <td>0.00</td>\n",
       "      <td>141.215034</td>\n",
       "      <td>130.256663</td>\n",
       "      <td>20938.455295</td>\n",
       "    </tr>\n",
       "  </tbody>\n",
       "</table>\n",
       "</div>"
      ],
      "text/plain": [
       "   Unnamed: 0  duration  srcbytes  dstbytes  land  wrongfragment  urgent  hot  \\\n",
       "0       43367         0       105         0     0              0       0    0   \n",
       "1      106111         0       723       328     0              0       0    0   \n",
       "2      117860         0       339      1497     0              0       0    0   \n",
       "3        8857         0       293       807     0              0       0    0   \n",
       "4       31875         0        46        46     0              0       0    0   \n",
       "\n",
       "   numfailedlogins  loggedin  numcompromised  rootshell  suattempted  \\\n",
       "0                0         0               0          0            0   \n",
       "1                0         1               0          0            0   \n",
       "2                0         1               0          0            0   \n",
       "3                0         1               0          0            0   \n",
       "4                0         0               0          0            0   \n",
       "\n",
       "   numfilecreations  numshells  numaccessfiles  ishostlogin  count  srvcount  \\\n",
       "0                 0          0               0            0      2         2   \n",
       "1                 0          0               0            0      1         1   \n",
       "2                 0          0               0            0     13        13   \n",
       "3                 0          0               0            0      5         5   \n",
       "4                 0          0               0            0     13        19   \n",
       "\n",
       "   serrorrate  rerrorrate  samesrvrate  diffsrvrate  srvdiffhostrate  \\\n",
       "0         0.0         0.0          1.0          0.0             0.00   \n",
       "1         0.0         0.0          1.0          0.0             0.00   \n",
       "2         0.0         0.0          1.0          0.0             0.00   \n",
       "3         0.0         0.0          1.0          0.0             0.00   \n",
       "4         0.0         0.0          1.0          0.0             0.16   \n",
       "\n",
       "   dsthostcount  dsthostsrvcount  dsthostdiffsrvrate  dsthostsamesrcportrate  \\\n",
       "0           212              206                0.01                    0.01   \n",
       "1           120              138                0.02                    0.01   \n",
       "2            51              247                0.00                    0.02   \n",
       "3           227              255                0.00                    0.00   \n",
       "4           255              254                0.01                    0.00   \n",
       "\n",
       "   dsthostsrvdiffhostrate  protocol_encoded  service_encoded  flag_encoded  \n",
       "0                    0.00        141.215034     90075.670572  20938.455295  \n",
       "1                    0.02      80114.288249     32667.764255  20938.455295  \n",
       "2                    0.13      80114.288249      6006.811369  20938.455295  \n",
       "3                    0.01      80114.288249      6006.811369  20938.455295  \n",
       "4                    0.00        141.215034       130.256663  20938.455295  "
      ]
     },
     "execution_count": 6,
     "metadata": {},
     "output_type": "execute_result"
    }
   ],
   "source": [
    "x_test.head()"
   ]
  },
  {
   "cell_type": "code",
   "execution_count": 7,
   "metadata": {},
   "outputs": [],
   "source": [
    "y = pd.read_csv(\"../datasets/y.csv\")\n",
    "y_train = pd.read_csv(\"../datasets/y_train.csv\")\n",
    "y_test = pd.read_csv(\"../datasets/y_test.csv\")"
   ]
  },
  {
   "cell_type": "code",
   "execution_count": 8,
   "metadata": {},
   "outputs": [
    {
     "data": {
      "text/html": [
       "<div>\n",
       "<style scoped>\n",
       "    .dataframe tbody tr th:only-of-type {\n",
       "        vertical-align: middle;\n",
       "    }\n",
       "\n",
       "    .dataframe tbody tr th {\n",
       "        vertical-align: top;\n",
       "    }\n",
       "\n",
       "    .dataframe thead th {\n",
       "        text-align: right;\n",
       "    }\n",
       "</style>\n",
       "<table border=\"1\" class=\"dataframe\">\n",
       "  <thead>\n",
       "    <tr style=\"text-align: right;\">\n",
       "      <th></th>\n",
       "      <th>Unnamed: 0</th>\n",
       "      <th>attackhlc</th>\n",
       "    </tr>\n",
       "  </thead>\n",
       "  <tbody>\n",
       "    <tr>\n",
       "      <th>0</th>\n",
       "      <td>0</td>\n",
       "      <td>0</td>\n",
       "    </tr>\n",
       "    <tr>\n",
       "      <th>1</th>\n",
       "      <td>1</td>\n",
       "      <td>0</td>\n",
       "    </tr>\n",
       "    <tr>\n",
       "      <th>2</th>\n",
       "      <td>2</td>\n",
       "      <td>1</td>\n",
       "    </tr>\n",
       "    <tr>\n",
       "      <th>3</th>\n",
       "      <td>3</td>\n",
       "      <td>0</td>\n",
       "    </tr>\n",
       "    <tr>\n",
       "      <th>4</th>\n",
       "      <td>4</td>\n",
       "      <td>0</td>\n",
       "    </tr>\n",
       "  </tbody>\n",
       "</table>\n",
       "</div>"
      ],
      "text/plain": [
       "   Unnamed: 0  attackhlc\n",
       "0           0          0\n",
       "1           1          0\n",
       "2           2          1\n",
       "3           3          0\n",
       "4           4          0"
      ]
     },
     "execution_count": 8,
     "metadata": {},
     "output_type": "execute_result"
    }
   ],
   "source": [
    "y.head()"
   ]
  },
  {
   "cell_type": "code",
   "execution_count": 9,
   "metadata": {},
   "outputs": [
    {
     "data": {
      "text/html": [
       "<div>\n",
       "<style scoped>\n",
       "    .dataframe tbody tr th:only-of-type {\n",
       "        vertical-align: middle;\n",
       "    }\n",
       "\n",
       "    .dataframe tbody tr th {\n",
       "        vertical-align: top;\n",
       "    }\n",
       "\n",
       "    .dataframe thead th {\n",
       "        text-align: right;\n",
       "    }\n",
       "</style>\n",
       "<table border=\"1\" class=\"dataframe\">\n",
       "  <thead>\n",
       "    <tr style=\"text-align: right;\">\n",
       "      <th></th>\n",
       "      <th>Unnamed: 0</th>\n",
       "      <th>attackhlc</th>\n",
       "    </tr>\n",
       "  </thead>\n",
       "  <tbody>\n",
       "    <tr>\n",
       "      <th>0</th>\n",
       "      <td>103864</td>\n",
       "      <td>0</td>\n",
       "    </tr>\n",
       "    <tr>\n",
       "      <th>1</th>\n",
       "      <td>64100</td>\n",
       "      <td>1</td>\n",
       "    </tr>\n",
       "    <tr>\n",
       "      <th>2</th>\n",
       "      <td>121047</td>\n",
       "      <td>0</td>\n",
       "    </tr>\n",
       "    <tr>\n",
       "      <th>3</th>\n",
       "      <td>10100</td>\n",
       "      <td>0</td>\n",
       "    </tr>\n",
       "    <tr>\n",
       "      <th>4</th>\n",
       "      <td>69891</td>\n",
       "      <td>1</td>\n",
       "    </tr>\n",
       "  </tbody>\n",
       "</table>\n",
       "</div>"
      ],
      "text/plain": [
       "   Unnamed: 0  attackhlc\n",
       "0      103864          0\n",
       "1       64100          1\n",
       "2      121047          0\n",
       "3       10100          0\n",
       "4       69891          1"
      ]
     },
     "execution_count": 9,
     "metadata": {},
     "output_type": "execute_result"
    }
   ],
   "source": [
    "y_train.head()"
   ]
  },
  {
   "cell_type": "code",
   "execution_count": 10,
   "metadata": {},
   "outputs": [
    {
     "data": {
      "text/html": [
       "<div>\n",
       "<style scoped>\n",
       "    .dataframe tbody tr th:only-of-type {\n",
       "        vertical-align: middle;\n",
       "    }\n",
       "\n",
       "    .dataframe tbody tr th {\n",
       "        vertical-align: top;\n",
       "    }\n",
       "\n",
       "    .dataframe thead th {\n",
       "        text-align: right;\n",
       "    }\n",
       "</style>\n",
       "<table border=\"1\" class=\"dataframe\">\n",
       "  <thead>\n",
       "    <tr style=\"text-align: right;\">\n",
       "      <th></th>\n",
       "      <th>Unnamed: 0</th>\n",
       "      <th>attackhlc</th>\n",
       "    </tr>\n",
       "  </thead>\n",
       "  <tbody>\n",
       "    <tr>\n",
       "      <th>0</th>\n",
       "      <td>43367</td>\n",
       "      <td>0</td>\n",
       "    </tr>\n",
       "    <tr>\n",
       "      <th>1</th>\n",
       "      <td>106111</td>\n",
       "      <td>0</td>\n",
       "    </tr>\n",
       "    <tr>\n",
       "      <th>2</th>\n",
       "      <td>117860</td>\n",
       "      <td>0</td>\n",
       "    </tr>\n",
       "    <tr>\n",
       "      <th>3</th>\n",
       "      <td>8857</td>\n",
       "      <td>0</td>\n",
       "    </tr>\n",
       "    <tr>\n",
       "      <th>4</th>\n",
       "      <td>31875</td>\n",
       "      <td>0</td>\n",
       "    </tr>\n",
       "  </tbody>\n",
       "</table>\n",
       "</div>"
      ],
      "text/plain": [
       "   Unnamed: 0  attackhlc\n",
       "0       43367          0\n",
       "1      106111          0\n",
       "2      117860          0\n",
       "3        8857          0\n",
       "4       31875          0"
      ]
     },
     "execution_count": 10,
     "metadata": {},
     "output_type": "execute_result"
    }
   ],
   "source": [
    "y_test.head()"
   ]
  },
  {
   "cell_type": "code",
   "execution_count": 11,
   "metadata": {},
   "outputs": [],
   "source": [
    "# dropping the \"Unnamed: 0\" column from x_train, x_val, x_test, y_train, y_val and y_test\n",
    "x.drop(columns = [\"Unnamed: 0\"], inplace = True)\n",
    "x_train.drop(columns = [\"Unnamed: 0\"], inplace = True)\n",
    "x_test.drop(columns = [\"Unnamed: 0\"], inplace = True)\n",
    "y.drop(columns = [\"Unnamed: 0\"], inplace = True)\n",
    "y_train.drop(columns = [\"Unnamed: 0\"], inplace = True)\n",
    "y_test.drop(columns = [\"Unnamed: 0\"], inplace = True)"
   ]
  },
  {
   "cell_type": "code",
   "execution_count": 12,
   "metadata": {},
   "outputs": [
    {
     "data": {
      "text/html": [
       "<div>\n",
       "<style scoped>\n",
       "    .dataframe tbody tr th:only-of-type {\n",
       "        vertical-align: middle;\n",
       "    }\n",
       "\n",
       "    .dataframe tbody tr th {\n",
       "        vertical-align: top;\n",
       "    }\n",
       "\n",
       "    .dataframe thead th {\n",
       "        text-align: right;\n",
       "    }\n",
       "</style>\n",
       "<table border=\"1\" class=\"dataframe\">\n",
       "  <thead>\n",
       "    <tr style=\"text-align: right;\">\n",
       "      <th></th>\n",
       "      <th>duration</th>\n",
       "      <th>srcbytes</th>\n",
       "      <th>dstbytes</th>\n",
       "      <th>land</th>\n",
       "      <th>wrongfragment</th>\n",
       "      <th>urgent</th>\n",
       "      <th>hot</th>\n",
       "      <th>numfailedlogins</th>\n",
       "      <th>loggedin</th>\n",
       "      <th>numcompromised</th>\n",
       "      <th>rootshell</th>\n",
       "      <th>suattempted</th>\n",
       "      <th>numfilecreations</th>\n",
       "      <th>numshells</th>\n",
       "      <th>numaccessfiles</th>\n",
       "      <th>ishostlogin</th>\n",
       "      <th>count</th>\n",
       "      <th>srvcount</th>\n",
       "      <th>serrorrate</th>\n",
       "      <th>rerrorrate</th>\n",
       "      <th>samesrvrate</th>\n",
       "      <th>diffsrvrate</th>\n",
       "      <th>srvdiffhostrate</th>\n",
       "      <th>dsthostcount</th>\n",
       "      <th>dsthostsrvcount</th>\n",
       "      <th>dsthostdiffsrvrate</th>\n",
       "      <th>dsthostsamesrcportrate</th>\n",
       "      <th>dsthostsrvdiffhostrate</th>\n",
       "      <th>protocol_encoded</th>\n",
       "      <th>service_encoded</th>\n",
       "      <th>flag_encoded</th>\n",
       "    </tr>\n",
       "  </thead>\n",
       "  <tbody>\n",
       "    <tr>\n",
       "      <th>0</th>\n",
       "      <td>0</td>\n",
       "      <td>491</td>\n",
       "      <td>0</td>\n",
       "      <td>0</td>\n",
       "      <td>0</td>\n",
       "      <td>0</td>\n",
       "      <td>0</td>\n",
       "      <td>0</td>\n",
       "      <td>0</td>\n",
       "      <td>0</td>\n",
       "      <td>0</td>\n",
       "      <td>0</td>\n",
       "      <td>0</td>\n",
       "      <td>0</td>\n",
       "      <td>0</td>\n",
       "      <td>0</td>\n",
       "      <td>2</td>\n",
       "      <td>2</td>\n",
       "      <td>0.0</td>\n",
       "      <td>0.0</td>\n",
       "      <td>1.00</td>\n",
       "      <td>0.00</td>\n",
       "      <td>0.00</td>\n",
       "      <td>150</td>\n",
       "      <td>25</td>\n",
       "      <td>0.03</td>\n",
       "      <td>0.17</td>\n",
       "      <td>0.00</td>\n",
       "      <td>80114.288249</td>\n",
       "      <td>143597.026531</td>\n",
       "      <td>20938.455295</td>\n",
       "    </tr>\n",
       "    <tr>\n",
       "      <th>1</th>\n",
       "      <td>0</td>\n",
       "      <td>146</td>\n",
       "      <td>0</td>\n",
       "      <td>0</td>\n",
       "      <td>0</td>\n",
       "      <td>0</td>\n",
       "      <td>0</td>\n",
       "      <td>0</td>\n",
       "      <td>0</td>\n",
       "      <td>0</td>\n",
       "      <td>0</td>\n",
       "      <td>0</td>\n",
       "      <td>0</td>\n",
       "      <td>0</td>\n",
       "      <td>0</td>\n",
       "      <td>0</td>\n",
       "      <td>13</td>\n",
       "      <td>1</td>\n",
       "      <td>0.0</td>\n",
       "      <td>0.0</td>\n",
       "      <td>0.08</td>\n",
       "      <td>0.15</td>\n",
       "      <td>0.00</td>\n",
       "      <td>255</td>\n",
       "      <td>1</td>\n",
       "      <td>0.60</td>\n",
       "      <td>0.88</td>\n",
       "      <td>0.00</td>\n",
       "      <td>141.215034</td>\n",
       "      <td>312548.734113</td>\n",
       "      <td>20938.455295</td>\n",
       "    </tr>\n",
       "    <tr>\n",
       "      <th>2</th>\n",
       "      <td>0</td>\n",
       "      <td>0</td>\n",
       "      <td>0</td>\n",
       "      <td>0</td>\n",
       "      <td>0</td>\n",
       "      <td>0</td>\n",
       "      <td>0</td>\n",
       "      <td>0</td>\n",
       "      <td>0</td>\n",
       "      <td>0</td>\n",
       "      <td>0</td>\n",
       "      <td>0</td>\n",
       "      <td>0</td>\n",
       "      <td>0</td>\n",
       "      <td>0</td>\n",
       "      <td>0</td>\n",
       "      <td>123</td>\n",
       "      <td>6</td>\n",
       "      <td>1.0</td>\n",
       "      <td>0.0</td>\n",
       "      <td>0.05</td>\n",
       "      <td>0.07</td>\n",
       "      <td>0.00</td>\n",
       "      <td>255</td>\n",
       "      <td>26</td>\n",
       "      <td>0.05</td>\n",
       "      <td>0.00</td>\n",
       "      <td>0.00</td>\n",
       "      <td>80114.288249</td>\n",
       "      <td>90075.670572</td>\n",
       "      <td>0.025365</td>\n",
       "    </tr>\n",
       "    <tr>\n",
       "      <th>3</th>\n",
       "      <td>0</td>\n",
       "      <td>232</td>\n",
       "      <td>8153</td>\n",
       "      <td>0</td>\n",
       "      <td>0</td>\n",
       "      <td>0</td>\n",
       "      <td>0</td>\n",
       "      <td>0</td>\n",
       "      <td>1</td>\n",
       "      <td>0</td>\n",
       "      <td>0</td>\n",
       "      <td>0</td>\n",
       "      <td>0</td>\n",
       "      <td>0</td>\n",
       "      <td>0</td>\n",
       "      <td>0</td>\n",
       "      <td>5</td>\n",
       "      <td>5</td>\n",
       "      <td>0.2</td>\n",
       "      <td>0.0</td>\n",
       "      <td>1.00</td>\n",
       "      <td>0.00</td>\n",
       "      <td>0.00</td>\n",
       "      <td>30</td>\n",
       "      <td>255</td>\n",
       "      <td>0.00</td>\n",
       "      <td>0.03</td>\n",
       "      <td>0.04</td>\n",
       "      <td>80114.288249</td>\n",
       "      <td>6006.811369</td>\n",
       "      <td>20938.455295</td>\n",
       "    </tr>\n",
       "    <tr>\n",
       "      <th>4</th>\n",
       "      <td>0</td>\n",
       "      <td>199</td>\n",
       "      <td>420</td>\n",
       "      <td>0</td>\n",
       "      <td>0</td>\n",
       "      <td>0</td>\n",
       "      <td>0</td>\n",
       "      <td>0</td>\n",
       "      <td>1</td>\n",
       "      <td>0</td>\n",
       "      <td>0</td>\n",
       "      <td>0</td>\n",
       "      <td>0</td>\n",
       "      <td>0</td>\n",
       "      <td>0</td>\n",
       "      <td>0</td>\n",
       "      <td>30</td>\n",
       "      <td>32</td>\n",
       "      <td>0.0</td>\n",
       "      <td>0.0</td>\n",
       "      <td>1.00</td>\n",
       "      <td>0.00</td>\n",
       "      <td>0.09</td>\n",
       "      <td>255</td>\n",
       "      <td>255</td>\n",
       "      <td>0.00</td>\n",
       "      <td>0.00</td>\n",
       "      <td>0.00</td>\n",
       "      <td>80114.288249</td>\n",
       "      <td>6006.811369</td>\n",
       "      <td>20938.455295</td>\n",
       "    </tr>\n",
       "  </tbody>\n",
       "</table>\n",
       "</div>"
      ],
      "text/plain": [
       "   duration  srcbytes  dstbytes  land  wrongfragment  urgent  hot  \\\n",
       "0         0       491         0     0              0       0    0   \n",
       "1         0       146         0     0              0       0    0   \n",
       "2         0         0         0     0              0       0    0   \n",
       "3         0       232      8153     0              0       0    0   \n",
       "4         0       199       420     0              0       0    0   \n",
       "\n",
       "   numfailedlogins  loggedin  numcompromised  rootshell  suattempted  \\\n",
       "0                0         0               0          0            0   \n",
       "1                0         0               0          0            0   \n",
       "2                0         0               0          0            0   \n",
       "3                0         1               0          0            0   \n",
       "4                0         1               0          0            0   \n",
       "\n",
       "   numfilecreations  numshells  numaccessfiles  ishostlogin  count  srvcount  \\\n",
       "0                 0          0               0            0      2         2   \n",
       "1                 0          0               0            0     13         1   \n",
       "2                 0          0               0            0    123         6   \n",
       "3                 0          0               0            0      5         5   \n",
       "4                 0          0               0            0     30        32   \n",
       "\n",
       "   serrorrate  rerrorrate  samesrvrate  diffsrvrate  srvdiffhostrate  \\\n",
       "0         0.0         0.0         1.00         0.00             0.00   \n",
       "1         0.0         0.0         0.08         0.15             0.00   \n",
       "2         1.0         0.0         0.05         0.07             0.00   \n",
       "3         0.2         0.0         1.00         0.00             0.00   \n",
       "4         0.0         0.0         1.00         0.00             0.09   \n",
       "\n",
       "   dsthostcount  dsthostsrvcount  dsthostdiffsrvrate  dsthostsamesrcportrate  \\\n",
       "0           150               25                0.03                    0.17   \n",
       "1           255                1                0.60                    0.88   \n",
       "2           255               26                0.05                    0.00   \n",
       "3            30              255                0.00                    0.03   \n",
       "4           255              255                0.00                    0.00   \n",
       "\n",
       "   dsthostsrvdiffhostrate  protocol_encoded  service_encoded  flag_encoded  \n",
       "0                    0.00      80114.288249    143597.026531  20938.455295  \n",
       "1                    0.00        141.215034    312548.734113  20938.455295  \n",
       "2                    0.00      80114.288249     90075.670572      0.025365  \n",
       "3                    0.04      80114.288249      6006.811369  20938.455295  \n",
       "4                    0.00      80114.288249      6006.811369  20938.455295  "
      ]
     },
     "execution_count": 12,
     "metadata": {},
     "output_type": "execute_result"
    }
   ],
   "source": [
    "x.head()"
   ]
  },
  {
   "cell_type": "code",
   "execution_count": 13,
   "metadata": {},
   "outputs": [
    {
     "data": {
      "text/html": [
       "<div>\n",
       "<style scoped>\n",
       "    .dataframe tbody tr th:only-of-type {\n",
       "        vertical-align: middle;\n",
       "    }\n",
       "\n",
       "    .dataframe tbody tr th {\n",
       "        vertical-align: top;\n",
       "    }\n",
       "\n",
       "    .dataframe thead th {\n",
       "        text-align: right;\n",
       "    }\n",
       "</style>\n",
       "<table border=\"1\" class=\"dataframe\">\n",
       "  <thead>\n",
       "    <tr style=\"text-align: right;\">\n",
       "      <th></th>\n",
       "      <th>duration</th>\n",
       "      <th>srcbytes</th>\n",
       "      <th>dstbytes</th>\n",
       "      <th>land</th>\n",
       "      <th>wrongfragment</th>\n",
       "      <th>urgent</th>\n",
       "      <th>hot</th>\n",
       "      <th>numfailedlogins</th>\n",
       "      <th>loggedin</th>\n",
       "      <th>numcompromised</th>\n",
       "      <th>rootshell</th>\n",
       "      <th>suattempted</th>\n",
       "      <th>numfilecreations</th>\n",
       "      <th>numshells</th>\n",
       "      <th>numaccessfiles</th>\n",
       "      <th>ishostlogin</th>\n",
       "      <th>count</th>\n",
       "      <th>srvcount</th>\n",
       "      <th>serrorrate</th>\n",
       "      <th>rerrorrate</th>\n",
       "      <th>samesrvrate</th>\n",
       "      <th>diffsrvrate</th>\n",
       "      <th>srvdiffhostrate</th>\n",
       "      <th>dsthostcount</th>\n",
       "      <th>dsthostsrvcount</th>\n",
       "      <th>dsthostdiffsrvrate</th>\n",
       "      <th>dsthostsamesrcportrate</th>\n",
       "      <th>dsthostsrvdiffhostrate</th>\n",
       "      <th>protocol_encoded</th>\n",
       "      <th>service_encoded</th>\n",
       "      <th>flag_encoded</th>\n",
       "    </tr>\n",
       "  </thead>\n",
       "  <tbody>\n",
       "    <tr>\n",
       "      <th>0</th>\n",
       "      <td>0</td>\n",
       "      <td>43</td>\n",
       "      <td>182</td>\n",
       "      <td>0</td>\n",
       "      <td>0</td>\n",
       "      <td>0</td>\n",
       "      <td>0</td>\n",
       "      <td>0</td>\n",
       "      <td>0</td>\n",
       "      <td>0</td>\n",
       "      <td>0</td>\n",
       "      <td>0</td>\n",
       "      <td>0</td>\n",
       "      <td>0</td>\n",
       "      <td>0</td>\n",
       "      <td>0</td>\n",
       "      <td>101</td>\n",
       "      <td>181</td>\n",
       "      <td>0.00</td>\n",
       "      <td>0.0</td>\n",
       "      <td>1.00</td>\n",
       "      <td>0.00</td>\n",
       "      <td>0.01</td>\n",
       "      <td>255</td>\n",
       "      <td>255</td>\n",
       "      <td>0.00</td>\n",
       "      <td>0.00</td>\n",
       "      <td>0.00</td>\n",
       "      <td>141.215034</td>\n",
       "      <td>130.256663</td>\n",
       "      <td>20938.455295</td>\n",
       "    </tr>\n",
       "    <tr>\n",
       "      <th>1</th>\n",
       "      <td>0</td>\n",
       "      <td>28</td>\n",
       "      <td>0</td>\n",
       "      <td>0</td>\n",
       "      <td>3</td>\n",
       "      <td>0</td>\n",
       "      <td>0</td>\n",
       "      <td>0</td>\n",
       "      <td>0</td>\n",
       "      <td>0</td>\n",
       "      <td>0</td>\n",
       "      <td>0</td>\n",
       "      <td>0</td>\n",
       "      <td>0</td>\n",
       "      <td>0</td>\n",
       "      <td>0</td>\n",
       "      <td>73</td>\n",
       "      <td>73</td>\n",
       "      <td>0.00</td>\n",
       "      <td>0.0</td>\n",
       "      <td>1.00</td>\n",
       "      <td>0.00</td>\n",
       "      <td>0.00</td>\n",
       "      <td>255</td>\n",
       "      <td>73</td>\n",
       "      <td>0.64</td>\n",
       "      <td>0.29</td>\n",
       "      <td>0.00</td>\n",
       "      <td>141.215034</td>\n",
       "      <td>90075.670572</td>\n",
       "      <td>20938.455295</td>\n",
       "    </tr>\n",
       "    <tr>\n",
       "      <th>2</th>\n",
       "      <td>0</td>\n",
       "      <td>311</td>\n",
       "      <td>1014</td>\n",
       "      <td>0</td>\n",
       "      <td>0</td>\n",
       "      <td>0</td>\n",
       "      <td>0</td>\n",
       "      <td>0</td>\n",
       "      <td>1</td>\n",
       "      <td>0</td>\n",
       "      <td>0</td>\n",
       "      <td>0</td>\n",
       "      <td>0</td>\n",
       "      <td>0</td>\n",
       "      <td>0</td>\n",
       "      <td>0</td>\n",
       "      <td>15</td>\n",
       "      <td>27</td>\n",
       "      <td>0.00</td>\n",
       "      <td>0.0</td>\n",
       "      <td>1.00</td>\n",
       "      <td>0.00</td>\n",
       "      <td>0.15</td>\n",
       "      <td>32</td>\n",
       "      <td>255</td>\n",
       "      <td>0.00</td>\n",
       "      <td>0.03</td>\n",
       "      <td>0.05</td>\n",
       "      <td>80114.288249</td>\n",
       "      <td>6006.811369</td>\n",
       "      <td>20938.455295</td>\n",
       "    </tr>\n",
       "    <tr>\n",
       "      <th>3</th>\n",
       "      <td>0</td>\n",
       "      <td>3775</td>\n",
       "      <td>0</td>\n",
       "      <td>0</td>\n",
       "      <td>0</td>\n",
       "      <td>0</td>\n",
       "      <td>0</td>\n",
       "      <td>0</td>\n",
       "      <td>0</td>\n",
       "      <td>0</td>\n",
       "      <td>0</td>\n",
       "      <td>0</td>\n",
       "      <td>0</td>\n",
       "      <td>0</td>\n",
       "      <td>0</td>\n",
       "      <td>0</td>\n",
       "      <td>20</td>\n",
       "      <td>1</td>\n",
       "      <td>0.05</td>\n",
       "      <td>0.0</td>\n",
       "      <td>0.05</td>\n",
       "      <td>0.75</td>\n",
       "      <td>0.00</td>\n",
       "      <td>255</td>\n",
       "      <td>1</td>\n",
       "      <td>0.07</td>\n",
       "      <td>0.45</td>\n",
       "      <td>0.00</td>\n",
       "      <td>80114.288249</td>\n",
       "      <td>312548.734113</td>\n",
       "      <td>20938.455295</td>\n",
       "    </tr>\n",
       "    <tr>\n",
       "      <th>4</th>\n",
       "      <td>0</td>\n",
       "      <td>0</td>\n",
       "      <td>0</td>\n",
       "      <td>0</td>\n",
       "      <td>0</td>\n",
       "      <td>0</td>\n",
       "      <td>0</td>\n",
       "      <td>0</td>\n",
       "      <td>0</td>\n",
       "      <td>0</td>\n",
       "      <td>0</td>\n",
       "      <td>0</td>\n",
       "      <td>0</td>\n",
       "      <td>0</td>\n",
       "      <td>0</td>\n",
       "      <td>0</td>\n",
       "      <td>212</td>\n",
       "      <td>20</td>\n",
       "      <td>1.00</td>\n",
       "      <td>0.0</td>\n",
       "      <td>0.09</td>\n",
       "      <td>0.07</td>\n",
       "      <td>0.00</td>\n",
       "      <td>255</td>\n",
       "      <td>20</td>\n",
       "      <td>0.08</td>\n",
       "      <td>0.00</td>\n",
       "      <td>0.00</td>\n",
       "      <td>80114.288249</td>\n",
       "      <td>0.104730</td>\n",
       "      <td>0.025365</td>\n",
       "    </tr>\n",
       "  </tbody>\n",
       "</table>\n",
       "</div>"
      ],
      "text/plain": [
       "   duration  srcbytes  dstbytes  land  wrongfragment  urgent  hot  \\\n",
       "0         0        43       182     0              0       0    0   \n",
       "1         0        28         0     0              3       0    0   \n",
       "2         0       311      1014     0              0       0    0   \n",
       "3         0      3775         0     0              0       0    0   \n",
       "4         0         0         0     0              0       0    0   \n",
       "\n",
       "   numfailedlogins  loggedin  numcompromised  rootshell  suattempted  \\\n",
       "0                0         0               0          0            0   \n",
       "1                0         0               0          0            0   \n",
       "2                0         1               0          0            0   \n",
       "3                0         0               0          0            0   \n",
       "4                0         0               0          0            0   \n",
       "\n",
       "   numfilecreations  numshells  numaccessfiles  ishostlogin  count  srvcount  \\\n",
       "0                 0          0               0            0    101       181   \n",
       "1                 0          0               0            0     73        73   \n",
       "2                 0          0               0            0     15        27   \n",
       "3                 0          0               0            0     20         1   \n",
       "4                 0          0               0            0    212        20   \n",
       "\n",
       "   serrorrate  rerrorrate  samesrvrate  diffsrvrate  srvdiffhostrate  \\\n",
       "0        0.00         0.0         1.00         0.00             0.01   \n",
       "1        0.00         0.0         1.00         0.00             0.00   \n",
       "2        0.00         0.0         1.00         0.00             0.15   \n",
       "3        0.05         0.0         0.05         0.75             0.00   \n",
       "4        1.00         0.0         0.09         0.07             0.00   \n",
       "\n",
       "   dsthostcount  dsthostsrvcount  dsthostdiffsrvrate  dsthostsamesrcportrate  \\\n",
       "0           255              255                0.00                    0.00   \n",
       "1           255               73                0.64                    0.29   \n",
       "2            32              255                0.00                    0.03   \n",
       "3           255                1                0.07                    0.45   \n",
       "4           255               20                0.08                    0.00   \n",
       "\n",
       "   dsthostsrvdiffhostrate  protocol_encoded  service_encoded  flag_encoded  \n",
       "0                    0.00        141.215034       130.256663  20938.455295  \n",
       "1                    0.00        141.215034     90075.670572  20938.455295  \n",
       "2                    0.05      80114.288249      6006.811369  20938.455295  \n",
       "3                    0.00      80114.288249    312548.734113  20938.455295  \n",
       "4                    0.00      80114.288249         0.104730      0.025365  "
      ]
     },
     "execution_count": 13,
     "metadata": {},
     "output_type": "execute_result"
    }
   ],
   "source": [
    "x_train.head()"
   ]
  },
  {
   "cell_type": "code",
   "execution_count": 14,
   "metadata": {},
   "outputs": [
    {
     "data": {
      "text/html": [
       "<div>\n",
       "<style scoped>\n",
       "    .dataframe tbody tr th:only-of-type {\n",
       "        vertical-align: middle;\n",
       "    }\n",
       "\n",
       "    .dataframe tbody tr th {\n",
       "        vertical-align: top;\n",
       "    }\n",
       "\n",
       "    .dataframe thead th {\n",
       "        text-align: right;\n",
       "    }\n",
       "</style>\n",
       "<table border=\"1\" class=\"dataframe\">\n",
       "  <thead>\n",
       "    <tr style=\"text-align: right;\">\n",
       "      <th></th>\n",
       "      <th>duration</th>\n",
       "      <th>srcbytes</th>\n",
       "      <th>dstbytes</th>\n",
       "      <th>land</th>\n",
       "      <th>wrongfragment</th>\n",
       "      <th>urgent</th>\n",
       "      <th>hot</th>\n",
       "      <th>numfailedlogins</th>\n",
       "      <th>loggedin</th>\n",
       "      <th>numcompromised</th>\n",
       "      <th>rootshell</th>\n",
       "      <th>suattempted</th>\n",
       "      <th>numfilecreations</th>\n",
       "      <th>numshells</th>\n",
       "      <th>numaccessfiles</th>\n",
       "      <th>ishostlogin</th>\n",
       "      <th>count</th>\n",
       "      <th>srvcount</th>\n",
       "      <th>serrorrate</th>\n",
       "      <th>rerrorrate</th>\n",
       "      <th>samesrvrate</th>\n",
       "      <th>diffsrvrate</th>\n",
       "      <th>srvdiffhostrate</th>\n",
       "      <th>dsthostcount</th>\n",
       "      <th>dsthostsrvcount</th>\n",
       "      <th>dsthostdiffsrvrate</th>\n",
       "      <th>dsthostsamesrcportrate</th>\n",
       "      <th>dsthostsrvdiffhostrate</th>\n",
       "      <th>protocol_encoded</th>\n",
       "      <th>service_encoded</th>\n",
       "      <th>flag_encoded</th>\n",
       "    </tr>\n",
       "  </thead>\n",
       "  <tbody>\n",
       "    <tr>\n",
       "      <th>0</th>\n",
       "      <td>0</td>\n",
       "      <td>105</td>\n",
       "      <td>0</td>\n",
       "      <td>0</td>\n",
       "      <td>0</td>\n",
       "      <td>0</td>\n",
       "      <td>0</td>\n",
       "      <td>0</td>\n",
       "      <td>0</td>\n",
       "      <td>0</td>\n",
       "      <td>0</td>\n",
       "      <td>0</td>\n",
       "      <td>0</td>\n",
       "      <td>0</td>\n",
       "      <td>0</td>\n",
       "      <td>0</td>\n",
       "      <td>2</td>\n",
       "      <td>2</td>\n",
       "      <td>0.0</td>\n",
       "      <td>0.0</td>\n",
       "      <td>1.0</td>\n",
       "      <td>0.0</td>\n",
       "      <td>0.00</td>\n",
       "      <td>212</td>\n",
       "      <td>206</td>\n",
       "      <td>0.01</td>\n",
       "      <td>0.01</td>\n",
       "      <td>0.00</td>\n",
       "      <td>141.215034</td>\n",
       "      <td>90075.670572</td>\n",
       "      <td>20938.455295</td>\n",
       "    </tr>\n",
       "    <tr>\n",
       "      <th>1</th>\n",
       "      <td>0</td>\n",
       "      <td>723</td>\n",
       "      <td>328</td>\n",
       "      <td>0</td>\n",
       "      <td>0</td>\n",
       "      <td>0</td>\n",
       "      <td>0</td>\n",
       "      <td>0</td>\n",
       "      <td>1</td>\n",
       "      <td>0</td>\n",
       "      <td>0</td>\n",
       "      <td>0</td>\n",
       "      <td>0</td>\n",
       "      <td>0</td>\n",
       "      <td>0</td>\n",
       "      <td>0</td>\n",
       "      <td>1</td>\n",
       "      <td>1</td>\n",
       "      <td>0.0</td>\n",
       "      <td>0.0</td>\n",
       "      <td>1.0</td>\n",
       "      <td>0.0</td>\n",
       "      <td>0.00</td>\n",
       "      <td>120</td>\n",
       "      <td>138</td>\n",
       "      <td>0.02</td>\n",
       "      <td>0.01</td>\n",
       "      <td>0.02</td>\n",
       "      <td>80114.288249</td>\n",
       "      <td>32667.764255</td>\n",
       "      <td>20938.455295</td>\n",
       "    </tr>\n",
       "    <tr>\n",
       "      <th>2</th>\n",
       "      <td>0</td>\n",
       "      <td>339</td>\n",
       "      <td>1497</td>\n",
       "      <td>0</td>\n",
       "      <td>0</td>\n",
       "      <td>0</td>\n",
       "      <td>0</td>\n",
       "      <td>0</td>\n",
       "      <td>1</td>\n",
       "      <td>0</td>\n",
       "      <td>0</td>\n",
       "      <td>0</td>\n",
       "      <td>0</td>\n",
       "      <td>0</td>\n",
       "      <td>0</td>\n",
       "      <td>0</td>\n",
       "      <td>13</td>\n",
       "      <td>13</td>\n",
       "      <td>0.0</td>\n",
       "      <td>0.0</td>\n",
       "      <td>1.0</td>\n",
       "      <td>0.0</td>\n",
       "      <td>0.00</td>\n",
       "      <td>51</td>\n",
       "      <td>247</td>\n",
       "      <td>0.00</td>\n",
       "      <td>0.02</td>\n",
       "      <td>0.13</td>\n",
       "      <td>80114.288249</td>\n",
       "      <td>6006.811369</td>\n",
       "      <td>20938.455295</td>\n",
       "    </tr>\n",
       "    <tr>\n",
       "      <th>3</th>\n",
       "      <td>0</td>\n",
       "      <td>293</td>\n",
       "      <td>807</td>\n",
       "      <td>0</td>\n",
       "      <td>0</td>\n",
       "      <td>0</td>\n",
       "      <td>0</td>\n",
       "      <td>0</td>\n",
       "      <td>1</td>\n",
       "      <td>0</td>\n",
       "      <td>0</td>\n",
       "      <td>0</td>\n",
       "      <td>0</td>\n",
       "      <td>0</td>\n",
       "      <td>0</td>\n",
       "      <td>0</td>\n",
       "      <td>5</td>\n",
       "      <td>5</td>\n",
       "      <td>0.0</td>\n",
       "      <td>0.0</td>\n",
       "      <td>1.0</td>\n",
       "      <td>0.0</td>\n",
       "      <td>0.00</td>\n",
       "      <td>227</td>\n",
       "      <td>255</td>\n",
       "      <td>0.00</td>\n",
       "      <td>0.00</td>\n",
       "      <td>0.01</td>\n",
       "      <td>80114.288249</td>\n",
       "      <td>6006.811369</td>\n",
       "      <td>20938.455295</td>\n",
       "    </tr>\n",
       "    <tr>\n",
       "      <th>4</th>\n",
       "      <td>0</td>\n",
       "      <td>46</td>\n",
       "      <td>46</td>\n",
       "      <td>0</td>\n",
       "      <td>0</td>\n",
       "      <td>0</td>\n",
       "      <td>0</td>\n",
       "      <td>0</td>\n",
       "      <td>0</td>\n",
       "      <td>0</td>\n",
       "      <td>0</td>\n",
       "      <td>0</td>\n",
       "      <td>0</td>\n",
       "      <td>0</td>\n",
       "      <td>0</td>\n",
       "      <td>0</td>\n",
       "      <td>13</td>\n",
       "      <td>19</td>\n",
       "      <td>0.0</td>\n",
       "      <td>0.0</td>\n",
       "      <td>1.0</td>\n",
       "      <td>0.0</td>\n",
       "      <td>0.16</td>\n",
       "      <td>255</td>\n",
       "      <td>254</td>\n",
       "      <td>0.01</td>\n",
       "      <td>0.00</td>\n",
       "      <td>0.00</td>\n",
       "      <td>141.215034</td>\n",
       "      <td>130.256663</td>\n",
       "      <td>20938.455295</td>\n",
       "    </tr>\n",
       "  </tbody>\n",
       "</table>\n",
       "</div>"
      ],
      "text/plain": [
       "   duration  srcbytes  dstbytes  land  wrongfragment  urgent  hot  \\\n",
       "0         0       105         0     0              0       0    0   \n",
       "1         0       723       328     0              0       0    0   \n",
       "2         0       339      1497     0              0       0    0   \n",
       "3         0       293       807     0              0       0    0   \n",
       "4         0        46        46     0              0       0    0   \n",
       "\n",
       "   numfailedlogins  loggedin  numcompromised  rootshell  suattempted  \\\n",
       "0                0         0               0          0            0   \n",
       "1                0         1               0          0            0   \n",
       "2                0         1               0          0            0   \n",
       "3                0         1               0          0            0   \n",
       "4                0         0               0          0            0   \n",
       "\n",
       "   numfilecreations  numshells  numaccessfiles  ishostlogin  count  srvcount  \\\n",
       "0                 0          0               0            0      2         2   \n",
       "1                 0          0               0            0      1         1   \n",
       "2                 0          0               0            0     13        13   \n",
       "3                 0          0               0            0      5         5   \n",
       "4                 0          0               0            0     13        19   \n",
       "\n",
       "   serrorrate  rerrorrate  samesrvrate  diffsrvrate  srvdiffhostrate  \\\n",
       "0         0.0         0.0          1.0          0.0             0.00   \n",
       "1         0.0         0.0          1.0          0.0             0.00   \n",
       "2         0.0         0.0          1.0          0.0             0.00   \n",
       "3         0.0         0.0          1.0          0.0             0.00   \n",
       "4         0.0         0.0          1.0          0.0             0.16   \n",
       "\n",
       "   dsthostcount  dsthostsrvcount  dsthostdiffsrvrate  dsthostsamesrcportrate  \\\n",
       "0           212              206                0.01                    0.01   \n",
       "1           120              138                0.02                    0.01   \n",
       "2            51              247                0.00                    0.02   \n",
       "3           227              255                0.00                    0.00   \n",
       "4           255              254                0.01                    0.00   \n",
       "\n",
       "   dsthostsrvdiffhostrate  protocol_encoded  service_encoded  flag_encoded  \n",
       "0                    0.00        141.215034     90075.670572  20938.455295  \n",
       "1                    0.02      80114.288249     32667.764255  20938.455295  \n",
       "2                    0.13      80114.288249      6006.811369  20938.455295  \n",
       "3                    0.01      80114.288249      6006.811369  20938.455295  \n",
       "4                    0.00        141.215034       130.256663  20938.455295  "
      ]
     },
     "execution_count": 14,
     "metadata": {},
     "output_type": "execute_result"
    }
   ],
   "source": [
    "x_test.head()"
   ]
  },
  {
   "cell_type": "code",
   "execution_count": 15,
   "metadata": {},
   "outputs": [
    {
     "data": {
      "text/html": [
       "<div>\n",
       "<style scoped>\n",
       "    .dataframe tbody tr th:only-of-type {\n",
       "        vertical-align: middle;\n",
       "    }\n",
       "\n",
       "    .dataframe tbody tr th {\n",
       "        vertical-align: top;\n",
       "    }\n",
       "\n",
       "    .dataframe thead th {\n",
       "        text-align: right;\n",
       "    }\n",
       "</style>\n",
       "<table border=\"1\" class=\"dataframe\">\n",
       "  <thead>\n",
       "    <tr style=\"text-align: right;\">\n",
       "      <th></th>\n",
       "      <th>attackhlc</th>\n",
       "    </tr>\n",
       "  </thead>\n",
       "  <tbody>\n",
       "    <tr>\n",
       "      <th>0</th>\n",
       "      <td>0</td>\n",
       "    </tr>\n",
       "    <tr>\n",
       "      <th>1</th>\n",
       "      <td>0</td>\n",
       "    </tr>\n",
       "    <tr>\n",
       "      <th>2</th>\n",
       "      <td>1</td>\n",
       "    </tr>\n",
       "    <tr>\n",
       "      <th>3</th>\n",
       "      <td>0</td>\n",
       "    </tr>\n",
       "    <tr>\n",
       "      <th>4</th>\n",
       "      <td>0</td>\n",
       "    </tr>\n",
       "  </tbody>\n",
       "</table>\n",
       "</div>"
      ],
      "text/plain": [
       "   attackhlc\n",
       "0          0\n",
       "1          0\n",
       "2          1\n",
       "3          0\n",
       "4          0"
      ]
     },
     "execution_count": 15,
     "metadata": {},
     "output_type": "execute_result"
    }
   ],
   "source": [
    "y.head()"
   ]
  },
  {
   "cell_type": "code",
   "execution_count": 16,
   "metadata": {},
   "outputs": [
    {
     "data": {
      "text/html": [
       "<div>\n",
       "<style scoped>\n",
       "    .dataframe tbody tr th:only-of-type {\n",
       "        vertical-align: middle;\n",
       "    }\n",
       "\n",
       "    .dataframe tbody tr th {\n",
       "        vertical-align: top;\n",
       "    }\n",
       "\n",
       "    .dataframe thead th {\n",
       "        text-align: right;\n",
       "    }\n",
       "</style>\n",
       "<table border=\"1\" class=\"dataframe\">\n",
       "  <thead>\n",
       "    <tr style=\"text-align: right;\">\n",
       "      <th></th>\n",
       "      <th>attackhlc</th>\n",
       "    </tr>\n",
       "  </thead>\n",
       "  <tbody>\n",
       "    <tr>\n",
       "      <th>0</th>\n",
       "      <td>0</td>\n",
       "    </tr>\n",
       "    <tr>\n",
       "      <th>1</th>\n",
       "      <td>1</td>\n",
       "    </tr>\n",
       "    <tr>\n",
       "      <th>2</th>\n",
       "      <td>0</td>\n",
       "    </tr>\n",
       "    <tr>\n",
       "      <th>3</th>\n",
       "      <td>0</td>\n",
       "    </tr>\n",
       "    <tr>\n",
       "      <th>4</th>\n",
       "      <td>1</td>\n",
       "    </tr>\n",
       "  </tbody>\n",
       "</table>\n",
       "</div>"
      ],
      "text/plain": [
       "   attackhlc\n",
       "0          0\n",
       "1          1\n",
       "2          0\n",
       "3          0\n",
       "4          1"
      ]
     },
     "execution_count": 16,
     "metadata": {},
     "output_type": "execute_result"
    }
   ],
   "source": [
    "y_train.head()"
   ]
  },
  {
   "cell_type": "code",
   "execution_count": 17,
   "metadata": {},
   "outputs": [
    {
     "data": {
      "text/html": [
       "<div>\n",
       "<style scoped>\n",
       "    .dataframe tbody tr th:only-of-type {\n",
       "        vertical-align: middle;\n",
       "    }\n",
       "\n",
       "    .dataframe tbody tr th {\n",
       "        vertical-align: top;\n",
       "    }\n",
       "\n",
       "    .dataframe thead th {\n",
       "        text-align: right;\n",
       "    }\n",
       "</style>\n",
       "<table border=\"1\" class=\"dataframe\">\n",
       "  <thead>\n",
       "    <tr style=\"text-align: right;\">\n",
       "      <th></th>\n",
       "      <th>attackhlc</th>\n",
       "    </tr>\n",
       "  </thead>\n",
       "  <tbody>\n",
       "    <tr>\n",
       "      <th>0</th>\n",
       "      <td>0</td>\n",
       "    </tr>\n",
       "    <tr>\n",
       "      <th>1</th>\n",
       "      <td>0</td>\n",
       "    </tr>\n",
       "    <tr>\n",
       "      <th>2</th>\n",
       "      <td>0</td>\n",
       "    </tr>\n",
       "    <tr>\n",
       "      <th>3</th>\n",
       "      <td>0</td>\n",
       "    </tr>\n",
       "    <tr>\n",
       "      <th>4</th>\n",
       "      <td>0</td>\n",
       "    </tr>\n",
       "  </tbody>\n",
       "</table>\n",
       "</div>"
      ],
      "text/plain": [
       "   attackhlc\n",
       "0          0\n",
       "1          0\n",
       "2          0\n",
       "3          0\n",
       "4          0"
      ]
     },
     "execution_count": 17,
     "metadata": {},
     "output_type": "execute_result"
    }
   ],
   "source": [
    "y_test.head()"
   ]
  },
  {
   "cell_type": "code",
   "execution_count": 18,
   "metadata": {},
   "outputs": [],
   "source": [
    "# scaling only the training and testing datasets using StandardScaler for now\n",
    "scaler = StandardScaler()\n",
    "\n",
    "x_train_scaled = scaler.fit_transform(x_train)\n",
    "x_test_scaled = scaler.transform(x_test)"
   ]
  },
  {
   "cell_type": "code",
   "execution_count": 19,
   "metadata": {},
   "outputs": [],
   "source": [
    "# model building without hyperparameter tuning"
   ]
  },
  {
   "cell_type": "code",
   "execution_count": 20,
   "metadata": {},
   "outputs": [],
   "source": [
    "# logistic regression OvR"
   ]
  },
  {
   "cell_type": "code",
   "execution_count": 21,
   "metadata": {},
   "outputs": [
    {
     "data": {
      "text/plain": [
       "4.740566968917847"
      ]
     },
     "execution_count": 21,
     "metadata": {},
     "output_type": "execute_result"
    }
   ],
   "source": [
    "# model training\n",
    "log_reg_ovr = LogisticRegression(multi_class = \"ovr\", random_state = 96)\n",
    "start_time = time.time()\n",
    "log_reg_ovr.fit(x_train_scaled, y_train)\n",
    "end_time = time.time()\n",
    "training_time_log_reg_ovr = end_time - start_time\n",
    "training_time_log_reg_ovr"
   ]
  },
  {
   "cell_type": "code",
   "execution_count": 22,
   "metadata": {},
   "outputs": [
    {
     "data": {
      "text/plain": [
       "0.014007091522216797"
      ]
     },
     "execution_count": 22,
     "metadata": {},
     "output_type": "execute_result"
    }
   ],
   "source": [
    "# predicting using the training data\n",
    "y_train_pred_log_reg_ovr = log_reg_ovr.predict(x_train_scaled)\n",
    "\n",
    "# predicting using the testing data\n",
    "start_time = time.time()\n",
    "y_test_pred_log_reg_ovr = log_reg_ovr.predict(x_test_scaled)\n",
    "end_time = time.time()\n",
    "prediction_time_log_reg_ovr = end_time - start_time\n",
    "prediction_time_log_reg_ovr"
   ]
  },
  {
   "cell_type": "code",
   "execution_count": 23,
   "metadata": {},
   "outputs": [
    {
     "data": {
      "text/plain": [
       "0.9517204618141403"
      ]
     },
     "execution_count": 23,
     "metadata": {},
     "output_type": "execute_result"
    }
   ],
   "source": [
    "# accuracy score of prediction using the training data\n",
    "train_accuracy_log_reg_ovr = accuracy_score(y_train, y_train_pred_log_reg_ovr)\n",
    "train_accuracy_log_reg_ovr"
   ]
  },
  {
   "cell_type": "code",
   "execution_count": 24,
   "metadata": {},
   "outputs": [
    {
     "data": {
      "text/plain": [
       "0.9507541677692511"
      ]
     },
     "execution_count": 24,
     "metadata": {},
     "output_type": "execute_result"
    }
   ],
   "source": [
    "# accuracy score of prediction using the testing data\n",
    "test_accuracy_log_reg_ovr = accuracy_score(y_test, y_test_pred_log_reg_ovr)\n",
    "test_accuracy_log_reg_ovr"
   ]
  },
  {
   "cell_type": "code",
   "execution_count": 25,
   "metadata": {},
   "outputs": [
    {
     "data": {
      "text/plain": [
       "array([[19627,   210,    72,   347,     3],\n",
       "       [  495, 13223,     1,     5,     0],\n",
       "       [  208,     3,    88,     3,     0],\n",
       "       [  423,    81,     0,  2987,     0],\n",
       "       [    9,     0,     0,     1,     4]])"
      ]
     },
     "execution_count": 25,
     "metadata": {},
     "output_type": "execute_result"
    }
   ],
   "source": [
    "# confusion matrix\n",
    "cm_log_reg_ovr = confusion_matrix(y_test, y_test_pred_log_reg_ovr)\n",
    "cm_log_reg_ovr"
   ]
  },
  {
   "cell_type": "code",
   "execution_count": 26,
   "metadata": {},
   "outputs": [
    {
     "data": {
      "image/png": "[encoded data removed]",
      "text/plain": [
       "<Figure size 640x480 with 2 Axes>"
      ]
     },
     "metadata": {},
     "output_type": "display_data"
    }
   ],
   "source": [
    "# visualizing the confusion matrix\n",
    "disp_cm_log_reg_ovr = ConfusionMatrixDisplay(cm_log_reg_ovr)\n",
    "disp_cm_log_reg_ovr.plot(cmap = \"Blues\")\n",
    "plt.title(\"Confusion Matrix Visualization of Logistic Regression OvR\")\n",
    "plt.savefig(\"../artifacts/cm_log_reg_ovr.png\")\n",
    "plt.show()"
   ]
  },
  {
   "cell_type": "code",
   "execution_count": 27,
   "metadata": {},
   "outputs": [
    {
     "data": {
      "text/plain": [
       "0.9491744612423747"
      ]
     },
     "execution_count": 27,
     "metadata": {},
     "output_type": "execute_result"
    }
   ],
   "source": [
    "# precision score\n",
    "precision_score_log_reg_ovr = precision_score(y_test, y_test_pred_log_reg_ovr, average = \"weighted\")\n",
    "precision_score_log_reg_ovr"
   ]
  },
  {
   "cell_type": "code",
   "execution_count": 28,
   "metadata": {},
   "outputs": [
    {
     "data": {
      "text/plain": [
       "0.9507541677692511"
      ]
     },
     "execution_count": 28,
     "metadata": {},
     "output_type": "execute_result"
    }
   ],
   "source": [
    "# recall score\n",
    "recall_score_log_reg_ovr = recall_score(y_test, y_test_pred_log_reg_ovr, average = \"weighted\")\n",
    "recall_score_log_reg_ovr"
   ]
  },
  {
   "cell_type": "code",
   "execution_count": 29,
   "metadata": {},
   "outputs": [
    {
     "data": {
      "text/plain": [
       "0.9495007450652647"
      ]
     },
     "execution_count": 29,
     "metadata": {},
     "output_type": "execute_result"
    }
   ],
   "source": [
    "# f1 score\n",
    "f1_score_log_reg_ovr = f1_score(y_test, y_test_pred_log_reg_ovr, average = \"weighted\")\n",
    "f1_score_log_reg_ovr"
   ]
  },
  {
   "cell_type": "code",
   "execution_count": 30,
   "metadata": {},
   "outputs": [
    {
     "name": "stdout",
     "output_type": "stream",
     "text": [
      "              precision    recall  f1-score   support\n",
      "\n",
      "           0       0.95      0.97      0.96     20259\n",
      "           1       0.98      0.96      0.97     13724\n",
      "           2       0.55      0.29      0.38       302\n",
      "           3       0.89      0.86      0.87      3491\n",
      "           4       0.57      0.29      0.38        14\n",
      "\n",
      "    accuracy                           0.95     37790\n",
      "   macro avg       0.79      0.67      0.71     37790\n",
      "weighted avg       0.95      0.95      0.95     37790\n",
      "\n"
     ]
    }
   ],
   "source": [
    "# classification report\n",
    "classification_report_log_reg_ovr = classification_report(y_test, y_test_pred_log_reg_ovr)\n",
    "print(classification_report_log_reg_ovr)"
   ]
  },
  {
   "cell_type": "code",
   "execution_count": 31,
   "metadata": {},
   "outputs": [],
   "source": [
    "# knn classifier"
   ]
  },
  {
   "cell_type": "code",
   "execution_count": 32,
   "metadata": {},
   "outputs": [
    {
     "data": {
      "text/plain": [
       "0.04608893394470215"
      ]
     },
     "execution_count": 32,
     "metadata": {},
     "output_type": "execute_result"
    }
   ],
   "source": [
    "# model training\n",
    "knn_classifier = KNeighborsClassifier(n_neighbors = 5, metric = \"manhattan\")\n",
    "start_time = time.time()\n",
    "knn_classifier.fit(x_train_scaled, y_train)\n",
    "end_time = time.time()\n",
    "training_time_knn_classifier = end_time - start_time\n",
    "training_time_knn_classifier"
   ]
  },
  {
   "cell_type": "code",
   "execution_count": 33,
   "metadata": {},
   "outputs": [
    {
     "data": {
      "text/plain": [
       "11.575630903244019"
      ]
     },
     "execution_count": 33,
     "metadata": {},
     "output_type": "execute_result"
    }
   ],
   "source": [
    "# predicting using the training data\n",
    "y_train_pred_knn_classifier = knn_classifier.predict(x_train_scaled)\n",
    "\n",
    "# predicting using the testing data\n",
    "start_time = time.time()\n",
    "y_test_pred_knn_classifier = knn_classifier.predict(x_test_scaled)\n",
    "end_time = time.time()\n",
    "prediction_time_knn_classifier = end_time - start_time\n",
    "prediction_time_knn_classifier"
   ]
  },
  {
   "cell_type": "code",
   "execution_count": 34,
   "metadata": {},
   "outputs": [
    {
     "data": {
      "text/plain": [
       "0.9973461564633566"
      ]
     },
     "execution_count": 34,
     "metadata": {},
     "output_type": "execute_result"
    }
   ],
   "source": [
    "# accuracy score of prediction using the training data\n",
    "train_accuracy_knn_classifier = accuracy_score(y_train, y_train_pred_knn_classifier)\n",
    "train_accuracy_knn_classifier"
   ]
  },
  {
   "cell_type": "code",
   "execution_count": 35,
   "metadata": {},
   "outputs": [
    {
     "data": {
      "text/plain": [
       "0.9953426832495369"
      ]
     },
     "execution_count": 35,
     "metadata": {},
     "output_type": "execute_result"
    }
   ],
   "source": [
    "# accuracy score of prediction using the testing data\n",
    "test_accuracy_knn_classifier = accuracy_score(y_test, y_test_pred_knn_classifier)\n",
    "test_accuracy_knn_classifier"
   ]
  },
  {
   "cell_type": "code",
   "execution_count": 36,
   "metadata": {},
   "outputs": [
    {
     "data": {
      "text/plain": [
       "array([[20183,    17,    23,    34,     2],\n",
       "       [   22, 13702,     0,     0,     0],\n",
       "       [   27,     0,   275,     0,     0],\n",
       "       [   40,     1,     0,  3450,     0],\n",
       "       [   10,     0,     0,     0,     4]])"
      ]
     },
     "execution_count": 36,
     "metadata": {},
     "output_type": "execute_result"
    }
   ],
   "source": [
    "# confusion matrix\n",
    "cm_knn_classifier = confusion_matrix(y_test, y_test_pred_knn_classifier)\n",
    "cm_knn_classifier"
   ]
  },
  {
   "cell_type": "code",
   "execution_count": 37,
   "metadata": {},
   "outputs": [
    {
     "data": {
      "image/png": "[encoded data removed]",
      "text/plain": [
       "<Figure size 640x480 with 2 Axes>"
      ]
     },
     "metadata": {},
     "output_type": "display_data"
    }
   ],
   "source": [
    "# visualizing the confusion matrix\n",
    "disp_cm_knn_classifier = ConfusionMatrixDisplay(cm_knn_classifier)\n",
    "disp_cm_knn_classifier.plot(cmap = \"Blues\")\n",
    "plt.title(\"Confusion Matrix Visualization of kNN Classifier\")\n",
    "plt.savefig(\"../artifacts/cm_knn_classifier.png\")\n",
    "plt.show()"
   ]
  },
  {
   "cell_type": "code",
   "execution_count": 38,
   "metadata": {},
   "outputs": [
    {
     "data": {
      "text/plain": [
       "0.9952649726233868"
      ]
     },
     "execution_count": 38,
     "metadata": {},
     "output_type": "execute_result"
    }
   ],
   "source": [
    "# precision score\n",
    "precision_score_knn_classifier = precision_score(y_test, y_test_pred_knn_classifier, average = \"weighted\")\n",
    "precision_score_knn_classifier"
   ]
  },
  {
   "cell_type": "code",
   "execution_count": 39,
   "metadata": {},
   "outputs": [
    {
     "data": {
      "text/plain": [
       "0.9953426832495369"
      ]
     },
     "execution_count": 39,
     "metadata": {},
     "output_type": "execute_result"
    }
   ],
   "source": [
    "# recall score\n",
    "recall_score_knn_classifier = recall_score(y_test, y_test_pred_knn_classifier, average = \"weighted\")\n",
    "recall_score_knn_classifier"
   ]
  },
  {
   "cell_type": "code",
   "execution_count": 40,
   "metadata": {},
   "outputs": [
    {
     "data": {
      "text/plain": [
       "0.9952750046309032"
      ]
     },
     "execution_count": 40,
     "metadata": {},
     "output_type": "execute_result"
    }
   ],
   "source": [
    "# f1 score\n",
    "f1_score_knn_classifier = f1_score(y_test, y_test_pred_knn_classifier, average = \"weighted\")\n",
    "f1_score_knn_classifier"
   ]
  },
  {
   "cell_type": "code",
   "execution_count": 41,
   "metadata": {},
   "outputs": [
    {
     "name": "stdout",
     "output_type": "stream",
     "text": [
      "              precision    recall  f1-score   support\n",
      "\n",
      "           0       1.00      1.00      1.00     20259\n",
      "           1       1.00      1.00      1.00     13724\n",
      "           2       0.92      0.91      0.92       302\n",
      "           3       0.99      0.99      0.99      3491\n",
      "           4       0.67      0.29      0.40        14\n",
      "\n",
      "    accuracy                           1.00     37790\n",
      "   macro avg       0.91      0.84      0.86     37790\n",
      "weighted avg       1.00      1.00      1.00     37790\n",
      "\n"
     ]
    }
   ],
   "source": [
    "# classification report\n",
    "classification_report_knn_classifier = classification_report(y_test, y_test_pred_knn_classifier)\n",
    "print(classification_report_knn_classifier)"
   ]
  },
  {
   "cell_type": "code",
   "execution_count": 42,
   "metadata": {},
   "outputs": [],
   "source": [
    "# decision tree classifier"
   ]
  },
  {
   "cell_type": "code",
   "execution_count": 43,
   "metadata": {},
   "outputs": [
    {
     "data": {
      "text/plain": [
       "0.2206740379333496"
      ]
     },
     "execution_count": 43,
     "metadata": {},
     "output_type": "execute_result"
    }
   ],
   "source": [
    "# model training\n",
    "dt_classifier = DecisionTreeClassifier(criterion = \"entropy\", max_depth = 5, random_state = 96)\n",
    "start_time = time.time()\n",
    "dt_classifier.fit(x_train_scaled, y_train)\n",
    "end_time = time.time()\n",
    "training_time_dt_classifier = end_time - start_time\n",
    "training_time_dt_classifier"
   ]
  },
  {
   "cell_type": "code",
   "execution_count": 44,
   "metadata": {},
   "outputs": [
    {
     "data": {
      "text/plain": [
       "0.002695798873901367"
      ]
     },
     "execution_count": 44,
     "metadata": {},
     "output_type": "execute_result"
    }
   ],
   "source": [
    "# predicting using the training data\n",
    "y_train_pred_dt_classifier = dt_classifier.predict(x_train_scaled)\n",
    "\n",
    "# predicting using the testing data\n",
    "start_time = time.time()\n",
    "y_test_pred_dt_classifier = dt_classifier.predict(x_test_scaled)\n",
    "end_time = time.time()\n",
    "prediction_time_dt_classifier = end_time - start_time\n",
    "prediction_time_dt_classifier"
   ]
  },
  {
   "cell_type": "code",
   "execution_count": 45,
   "metadata": {},
   "outputs": [
    {
     "data": {
      "text/plain": [
       "0.9869009004922086"
      ]
     },
     "execution_count": 45,
     "metadata": {},
     "output_type": "execute_result"
    }
   ],
   "source": [
    "# accuracy score of prediction using the training data\n",
    "train_accuracy_dt_classifier = accuracy_score(y_train, y_train_pred_dt_classifier)\n",
    "train_accuracy_dt_classifier"
   ]
  },
  {
   "cell_type": "code",
   "execution_count": 46,
   "metadata": {},
   "outputs": [
    {
     "data": {
      "text/plain": [
       "0.9854458851548028"
      ]
     },
     "execution_count": 46,
     "metadata": {},
     "output_type": "execute_result"
    }
   ],
   "source": [
    "# accuracy score of prediction using the testing data\n",
    "test_accuracy_dt_classifier = accuracy_score(y_test, y_test_pred_dt_classifier)\n",
    "test_accuracy_dt_classifier"
   ]
  },
  {
   "cell_type": "code",
   "execution_count": 47,
   "metadata": {},
   "outputs": [
    {
     "data": {
      "text/plain": [
       "array([[20113,    34,    44,    68,     0],\n",
       "       [   23, 13613,     0,    88,     0],\n",
       "       [   64,     1,   230,     7,     0],\n",
       "       [  171,    36,     0,  3284,     0],\n",
       "       [   12,     0,     0,     2,     0]])"
      ]
     },
     "execution_count": 47,
     "metadata": {},
     "output_type": "execute_result"
    }
   ],
   "source": [
    "# confision matrix\n",
    "cm_dt_classifier = confusion_matrix(y_test, y_test_pred_dt_classifier)\n",
    "cm_dt_classifier"
   ]
  },
  {
   "cell_type": "code",
   "execution_count": 48,
   "metadata": {},
   "outputs": [
    {
     "data": {
      "image/png": "[encoded data removed]",
      "text/plain": [
       "<Figure size 640x480 with 2 Axes>"
      ]
     },
     "metadata": {},
     "output_type": "display_data"
    }
   ],
   "source": [
    "# visualizing the confusion matrix\n",
    "disp_cm_dt_classifier = ConfusionMatrixDisplay(cm_dt_classifier)\n",
    "disp_cm_dt_classifier.plot(cmap = \"Blues\")\n",
    "plt.title(\"Confusion Matrix Visualization of Decision Tree Classifier\")\n",
    "plt.savefig(\"../artifacts/cm_dt_classifier.png\")\n",
    "plt.show()"
   ]
  },
  {
   "cell_type": "code",
   "execution_count": 49,
   "metadata": {},
   "outputs": [
    {
     "data": {
      "text/plain": [
       "0.9849412377662674"
      ]
     },
     "execution_count": 49,
     "metadata": {},
     "output_type": "execute_result"
    }
   ],
   "source": [
    "# precision score\n",
    "precision_score_dt_classifier = precision_score(y_test, y_test_pred_dt_classifier, average = \"weighted\")\n",
    "precision_score_dt_classifier"
   ]
  },
  {
   "cell_type": "code",
   "execution_count": 50,
   "metadata": {},
   "outputs": [
    {
     "data": {
      "text/plain": [
       "0.9854458851548028"
      ]
     },
     "execution_count": 50,
     "metadata": {},
     "output_type": "execute_result"
    }
   ],
   "source": [
    "# recall score\n",
    "recall_score_dt_classifier = recall_score(y_test, y_test_pred_dt_classifier, average = \"weighted\")\n",
    "recall_score_dt_classifier"
   ]
  },
  {
   "cell_type": "code",
   "execution_count": 51,
   "metadata": {},
   "outputs": [
    {
     "data": {
      "text/plain": [
       "0.985169534629255"
      ]
     },
     "execution_count": 51,
     "metadata": {},
     "output_type": "execute_result"
    }
   ],
   "source": [
    "# f1 score\n",
    "f1_score_dt_classifier = f1_score(y_test, y_test_pred_dt_classifier, average = \"weighted\")\n",
    "f1_score_dt_classifier"
   ]
  },
  {
   "cell_type": "code",
   "execution_count": 52,
   "metadata": {},
   "outputs": [
    {
     "name": "stdout",
     "output_type": "stream",
     "text": [
      "              precision    recall  f1-score   support\n",
      "\n",
      "           0       0.99      0.99      0.99     20259\n",
      "           1       0.99      0.99      0.99     13724\n",
      "           2       0.84      0.76      0.80       302\n",
      "           3       0.95      0.94      0.95      3491\n",
      "           4       0.00      0.00      0.00        14\n",
      "\n",
      "    accuracy                           0.99     37790\n",
      "   macro avg       0.75      0.74      0.75     37790\n",
      "weighted avg       0.98      0.99      0.99     37790\n",
      "\n"
     ]
    }
   ],
   "source": [
    "# classification report\n",
    "classification_report_dt_classifier = classification_report(y_test, y_test_pred_dt_classifier)\n",
    "print(classification_report_dt_classifier)"
   ]
  },
  {
   "cell_type": "code",
   "execution_count": 53,
   "metadata": {},
   "outputs": [],
   "source": [
    "# bagging: random forest classifier"
   ]
  },
  {
   "cell_type": "code",
   "execution_count": 54,
   "metadata": {},
   "outputs": [
    {
     "data": {
      "text/plain": [
       "2.098139762878418"
      ]
     },
     "execution_count": 54,
     "metadata": {},
     "output_type": "execute_result"
    }
   ],
   "source": [
    "# model training\n",
    "rf_classifier = RandomForestClassifier(criterion = \"entropy\", max_depth = 5, random_state = 96)\n",
    "start_time = time.time()\n",
    "rf_classifier.fit(x_train_scaled, y_train)\n",
    "end_time = time.time()\n",
    "training_time_rf_classifier = end_time - start_time\n",
    "training_time_rf_classifier"
   ]
  },
  {
   "cell_type": "code",
   "execution_count": 55,
   "metadata": {},
   "outputs": [
    {
     "data": {
      "text/plain": [
       "0.13918590545654297"
      ]
     },
     "execution_count": 55,
     "metadata": {},
     "output_type": "execute_result"
    }
   ],
   "source": [
    "# prediction using the training data\n",
    "y_train_pred_rf_classifier = rf_classifier.predict(x_train_scaled)\n",
    "\n",
    "# prediction using the testing data\n",
    "start_time = time.time()\n",
    "y_test_pred_rf_classifier = rf_classifier.predict(x_test_scaled)\n",
    "end_time = time.time()\n",
    "prediction_time_rf_classifier = end_time - start_time\n",
    "prediction_time_rf_classifier"
   ]
  },
  {
   "cell_type": "code",
   "execution_count": 56,
   "metadata": {},
   "outputs": [
    {
     "data": {
      "text/plain": [
       "0.9835665842538617"
      ]
     },
     "execution_count": 56,
     "metadata": {},
     "output_type": "execute_result"
    }
   ],
   "source": [
    "# accuracy score of prediction using the training data\n",
    "train_accuracy_rf_classifier = accuracy_score(y_train, y_train_pred_rf_classifier)\n",
    "train_accuracy_rf_classifier"
   ]
  },
  {
   "cell_type": "code",
   "execution_count": 57,
   "metadata": {},
   "outputs": [
    {
     "data": {
      "text/plain": [
       "0.9830907647525801"
      ]
     },
     "execution_count": 57,
     "metadata": {},
     "output_type": "execute_result"
    }
   ],
   "source": [
    "# accuracy score of prediction using the testing data\n",
    "test_accuracy_rf_classifier = accuracy_score(y_test, y_test_pred_rf_classifier)\n",
    "test_accuracy_rf_classifier"
   ]
  },
  {
   "cell_type": "code",
   "execution_count": 58,
   "metadata": {},
   "outputs": [
    {
     "data": {
      "text/plain": [
       "array([[20241,     5,     0,    13,     0],\n",
       "       [  134, 13589,     0,     1,     0],\n",
       "       [  302,     0,     0,     0,     0],\n",
       "       [  158,    12,     0,  3321,     0],\n",
       "       [   14,     0,     0,     0,     0]])"
      ]
     },
     "execution_count": 58,
     "metadata": {},
     "output_type": "execute_result"
    }
   ],
   "source": [
    "# confusion matrix\n",
    "cm_rf_classifier = confusion_matrix(y_test, y_test_pred_rf_classifier)\n",
    "cm_rf_classifier"
   ]
  },
  {
   "cell_type": "code",
   "execution_count": 59,
   "metadata": {},
   "outputs": [
    {
     "data": {
      "image/png": "[encoded data removed]",
      "text/plain": [
       "<Figure size 640x480 with 2 Axes>"
      ]
     },
     "metadata": {},
     "output_type": "display_data"
    }
   ],
   "source": [
    "# visualizing the confusion matrix\n",
    "disp_cm_rf_classifier = ConfusionMatrixDisplay(cm_rf_classifier)\n",
    "disp_cm_rf_classifier.plot(cmap = \"Blues\")\n",
    "plt.title(\"Confusion Matrix Visualization of Random Forest Classifier\")\n",
    "plt.savefig(\"../artifacts/cm_rf_classifier.png\")\n",
    "plt.show()"
   ]
  },
  {
   "cell_type": "code",
   "execution_count": 60,
   "metadata": {},
   "outputs": [
    {
     "data": {
      "text/plain": [
       "0.9751628291572861"
      ]
     },
     "execution_count": 60,
     "metadata": {},
     "output_type": "execute_result"
    }
   ],
   "source": [
    "# precision score\n",
    "precision_score_rf_classifier = precision_score(y_test, y_test_pred_rf_classifier, average = \"weighted\")\n",
    "precision_score_rf_classifier"
   ]
  },
  {
   "cell_type": "code",
   "execution_count": 61,
   "metadata": {},
   "outputs": [
    {
     "data": {
      "text/plain": [
       "0.9830907647525801"
      ]
     },
     "execution_count": 61,
     "metadata": {},
     "output_type": "execute_result"
    }
   ],
   "source": [
    "# recall score\n",
    "recall_score_rf_classifier = recall_score(y_test, y_test_pred_rf_classifier, average = \"weighted\")\n",
    "recall_score_rf_classifier"
   ]
  },
  {
   "cell_type": "code",
   "execution_count": 62,
   "metadata": {},
   "outputs": [
    {
     "data": {
      "text/plain": [
       "0.978964319298147"
      ]
     },
     "execution_count": 62,
     "metadata": {},
     "output_type": "execute_result"
    }
   ],
   "source": [
    "# f1 score\n",
    "f1_score_rf_classifier = f1_score(y_test, y_test_pred_rf_classifier, average = \"weighted\")\n",
    "f1_score_rf_classifier"
   ]
  },
  {
   "cell_type": "code",
   "execution_count": 63,
   "metadata": {},
   "outputs": [
    {
     "name": "stdout",
     "output_type": "stream",
     "text": [
      "              precision    recall  f1-score   support\n",
      "\n",
      "           0       0.97      1.00      0.98     20259\n",
      "           1       1.00      0.99      0.99     13724\n",
      "           2       0.00      0.00      0.00       302\n",
      "           3       1.00      0.95      0.97      3491\n",
      "           4       0.00      0.00      0.00        14\n",
      "\n",
      "    accuracy                           0.98     37790\n",
      "   macro avg       0.59      0.59      0.59     37790\n",
      "weighted avg       0.98      0.98      0.98     37790\n",
      "\n"
     ]
    }
   ],
   "source": [
    "# classification report\n",
    "classification_report_rf_classifier = classification_report(y_test, y_test_pred_rf_classifier)\n",
    "print(classification_report_rf_classifier)"
   ]
  },
  {
   "cell_type": "code",
   "execution_count": 64,
   "metadata": {},
   "outputs": [],
   "source": [
    "# boosting: gradient boosting classifier"
   ]
  },
  {
   "cell_type": "code",
   "execution_count": 65,
   "metadata": {},
   "outputs": [
    {
     "data": {
      "text/plain": [
       "71.3991470336914"
      ]
     },
     "execution_count": 65,
     "metadata": {},
     "output_type": "execute_result"
    }
   ],
   "source": [
    "# model training\n",
    "gbdt_classifier = GradientBoostingClassifier(loss = \"log_loss\", max_depth = 5, random_state = 96)\n",
    "start_time = time.time()\n",
    "gbdt_classifier.fit(x_train_scaled, y_train)\n",
    "end_time = time.time()\n",
    "training_time_gbdt_classifier = end_time - start_time\n",
    "training_time_gbdt_classifier"
   ]
  },
  {
   "cell_type": "code",
   "execution_count": 66,
   "metadata": {},
   "outputs": [
    {
     "data": {
      "text/plain": [
       "0.17197179794311523"
      ]
     },
     "execution_count": 66,
     "metadata": {},
     "output_type": "execute_result"
    }
   ],
   "source": [
    "# predicting using the training data\n",
    "y_train_pred_gbdt_classifier = gbdt_classifier.predict(x_train_scaled)\n",
    "\n",
    "# predicting using the testing data\n",
    "start_time = time.time()\n",
    "y_test_pred_gbdt_classifier = gbdt_classifier.predict(x_test_scaled)\n",
    "end_time = time.time()\n",
    "prediction_time_gbdt_classifier = end_time - start_time\n",
    "prediction_time_gbdt_classifier"
   ]
  },
  {
   "cell_type": "code",
   "execution_count": 67,
   "metadata": {},
   "outputs": [
    {
     "data": {
      "text/plain": [
       "0.9960571579783012"
      ]
     },
     "execution_count": 67,
     "metadata": {},
     "output_type": "execute_result"
    }
   ],
   "source": [
    "# accuracy score of prediction using the training data\n",
    "train_accuracy_gbdt_classifier = accuracy_score(y_test, y_test_pred_gbdt_classifier)\n",
    "train_accuracy_gbdt_classifier"
   ]
  },
  {
   "cell_type": "code",
   "execution_count": 68,
   "metadata": {},
   "outputs": [
    {
     "data": {
      "text/plain": [
       "0.9960571579783012"
      ]
     },
     "execution_count": 68,
     "metadata": {},
     "output_type": "execute_result"
    }
   ],
   "source": [
    "# accuracy score of prediction using the testing data\n",
    "test_accuracy_gbdt_classifier = accuracy_score(y_test, y_test_pred_gbdt_classifier)\n",
    "test_accuracy_gbdt_classifier"
   ]
  },
  {
   "cell_type": "code",
   "execution_count": 69,
   "metadata": {},
   "outputs": [
    {
     "data": {
      "text/plain": [
       "array([[20196,     6,     7,    36,    14],\n",
       "       [    5, 13718,     0,     1,     0],\n",
       "       [   16,     0,   279,     1,     6],\n",
       "       [   45,     0,     3,  3441,     2],\n",
       "       [    6,     0,     0,     1,     7]])"
      ]
     },
     "execution_count": 69,
     "metadata": {},
     "output_type": "execute_result"
    }
   ],
   "source": [
    "# confusion matrix\n",
    "cm_gbdt_classifier = confusion_matrix(y_test, y_test_pred_gbdt_classifier)\n",
    "cm_gbdt_classifier"
   ]
  },
  {
   "cell_type": "code",
   "execution_count": 70,
   "metadata": {},
   "outputs": [
    {
     "data": {
      "image/png": "[encoded data removed]",
      "text/plain": [
       "<Figure size 640x480 with 2 Axes>"
      ]
     },
     "metadata": {},
     "output_type": "display_data"
    }
   ],
   "source": [
    "# visualizing the confusion matrix\n",
    "disp_cm_gbdt_classifier = ConfusionMatrixDisplay(cm_gbdt_classifier)\n",
    "disp_cm_gbdt_classifier.plot(cmap = \"Blues\")\n",
    "plt.title(\"Confusion Matrix Visualization of GBDT Classifier\")\n",
    "plt.savefig(\"../artifacts/cm_gbdt_classifier.png\")\n",
    "plt.show()"
   ]
  },
  {
   "cell_type": "code",
   "execution_count": 71,
   "metadata": {},
   "outputs": [
    {
     "data": {
      "text/plain": [
       "0.9963439581654923"
      ]
     },
     "execution_count": 71,
     "metadata": {},
     "output_type": "execute_result"
    }
   ],
   "source": [
    "# precision score\n",
    "precision_score_gbdt_classifier = precision_score(y_test, y_test_pred_gbdt_classifier, average = \"weighted\")\n",
    "precision_score_gbdt_classifier"
   ]
  },
  {
   "cell_type": "code",
   "execution_count": 72,
   "metadata": {},
   "outputs": [
    {
     "data": {
      "text/plain": [
       "0.9960571579783012"
      ]
     },
     "execution_count": 72,
     "metadata": {},
     "output_type": "execute_result"
    }
   ],
   "source": [
    "# recall score\n",
    "recall_score_gbdt_classifier = recall_score(y_test, y_test_pred_gbdt_classifier, average = \"weighted\")\n",
    "recall_score_gbdt_classifier"
   ]
  },
  {
   "cell_type": "code",
   "execution_count": 73,
   "metadata": {},
   "outputs": [
    {
     "data": {
      "text/plain": [
       "0.9961799408811431"
      ]
     },
     "execution_count": 73,
     "metadata": {},
     "output_type": "execute_result"
    }
   ],
   "source": [
    "# f1 score\n",
    "f1_score_gbdt_classifier = f1_score(y_test, y_test_pred_gbdt_classifier, average = \"weighted\")\n",
    "f1_score_gbdt_classifier"
   ]
  },
  {
   "cell_type": "code",
   "execution_count": 74,
   "metadata": {},
   "outputs": [
    {
     "name": "stdout",
     "output_type": "stream",
     "text": [
      "              precision    recall  f1-score   support\n",
      "\n",
      "           0       1.00      1.00      1.00     20259\n",
      "           1       1.00      1.00      1.00     13724\n",
      "           2       0.97      0.92      0.94       302\n",
      "           3       0.99      0.99      0.99      3491\n",
      "           4       0.24      0.50      0.33        14\n",
      "\n",
      "    accuracy                           1.00     37790\n",
      "   macro avg       0.84      0.88      0.85     37790\n",
      "weighted avg       1.00      1.00      1.00     37790\n",
      "\n"
     ]
    }
   ],
   "source": [
    "# classification report\n",
    "classification_report_gbdt_classifier = classification_report(y_test, y_test_pred_gbdt_classifier)\n",
    "print(classification_report_gbdt_classifier)"
   ]
  },
  {
   "cell_type": "code",
   "execution_count": 75,
   "metadata": {},
   "outputs": [],
   "source": [
    "# support vector classifier"
   ]
  },
  {
   "cell_type": "code",
   "execution_count": 76,
   "metadata": {},
   "outputs": [
    {
     "data": {
      "text/plain": [
       "14.952266931533813"
      ]
     },
     "execution_count": 76,
     "metadata": {},
     "output_type": "execute_result"
    }
   ],
   "source": [
    "# model training\n",
    "sv_classifier = SVC(kernel = \"poly\", random_state = 96)\n",
    "start_time = time.time()\n",
    "sv_classifier.fit(x_train_scaled, y_train)\n",
    "end_time = time.time()\n",
    "training_time_sv_classifier = end_time - start_time\n",
    "training_time_sv_classifier"
   ]
  },
  {
   "cell_type": "code",
   "execution_count": 77,
   "metadata": {},
   "outputs": [
    {
     "data": {
      "text/plain": [
       "5.002594709396362"
      ]
     },
     "execution_count": 77,
     "metadata": {},
     "output_type": "execute_result"
    }
   ],
   "source": [
    "# predicting using the training data\n",
    "y_train_pred_sv_classifier = sv_classifier.predict(x_train_scaled)\n",
    "\n",
    "# predicting using the testing data\n",
    "start_time = time.time()\n",
    "y_test_pred_sv_classifier = sv_classifier.predict(x_test_scaled)\n",
    "end_time = time.time()\n",
    "prediction_time_sv_classifier = end_time - start_time\n",
    "prediction_time_sv_classifier"
   ]
  },
  {
   "cell_type": "code",
   "execution_count": 78,
   "metadata": {},
   "outputs": [
    {
     "data": {
      "text/plain": [
       "0.9851203302560846"
      ]
     },
     "execution_count": 78,
     "metadata": {},
     "output_type": "execute_result"
    }
   ],
   "source": [
    "# accuracy score of prediction using the training data\n",
    "train_accuracy_sv_classifier = accuracy_score(y_train, y_train_pred_sv_classifier)\n",
    "train_accuracy_sv_classifier"
   ]
  },
  {
   "cell_type": "code",
   "execution_count": 79,
   "metadata": {},
   "outputs": [
    {
     "data": {
      "text/plain": [
       "0.9839904736702831"
      ]
     },
     "execution_count": 79,
     "metadata": {},
     "output_type": "execute_result"
    }
   ],
   "source": [
    "# accuracy score of prediction using the testing data\n",
    "test_accuracy_sv_classifier = accuracy_score(y_test, y_test_pred_sv_classifier)\n",
    "test_accuracy_sv_classifier"
   ]
  },
  {
   "cell_type": "code",
   "execution_count": 80,
   "metadata": {},
   "outputs": [
    {
     "data": {
      "text/plain": [
       "array([[20116,    32,    32,    75,     4],\n",
       "       [  192, 13531,     0,     1,     0],\n",
       "       [   56,     0,   246,     0,     0],\n",
       "       [  194,     6,     2,  3289,     0],\n",
       "       [   11,     0,     0,     0,     3]])"
      ]
     },
     "execution_count": 80,
     "metadata": {},
     "output_type": "execute_result"
    }
   ],
   "source": [
    "# confusion matrix\n",
    "cm_sv_classifier = confusion_matrix(y_test, y_test_pred_sv_classifier)\n",
    "cm_sv_classifier"
   ]
  },
  {
   "cell_type": "code",
   "execution_count": 81,
   "metadata": {},
   "outputs": [
    {
     "data": {
      "image/png": "[encoded data removed]",
      "text/plain": [
       "<Figure size 640x480 with 2 Axes>"
      ]
     },
     "metadata": {},
     "output_type": "display_data"
    }
   ],
   "source": [
    "# visualizing the confusion matrix\n",
    "disp_cm_sv_classifier = ConfusionMatrixDisplay(cm_sv_classifier)\n",
    "disp_cm_sv_classifier.plot(cmap = \"Blues\")\n",
    "plt.title(\"Confusion Matrix Visualization of Support Vector Classifier\")\n",
    "plt.savefig(\"../artifacts/cm_sv_classifier.png\")\n",
    "plt.show()"
   ]
  },
  {
   "cell_type": "code",
   "execution_count": 82,
   "metadata": {},
   "outputs": [
    {
     "data": {
      "text/plain": [
       "0.9839078061087859"
      ]
     },
     "execution_count": 82,
     "metadata": {},
     "output_type": "execute_result"
    }
   ],
   "source": [
    "# precision score\n",
    "precision_score_sv_classifier = precision_score(y_test, y_test_pred_sv_classifier, average = \"weighted\")\n",
    "precision_score_sv_classifier"
   ]
  },
  {
   "cell_type": "code",
   "execution_count": 83,
   "metadata": {},
   "outputs": [
    {
     "data": {
      "text/plain": [
       "0.9839904736702831"
      ]
     },
     "execution_count": 83,
     "metadata": {},
     "output_type": "execute_result"
    }
   ],
   "source": [
    "# recall score\n",
    "recall_score_sv_classifier = recall_score(y_test, y_test_pred_sv_classifier, average = \"weighted\")\n",
    "recall_score_sv_classifier"
   ]
  },
  {
   "cell_type": "code",
   "execution_count": 84,
   "metadata": {},
   "outputs": [
    {
     "data": {
      "text/plain": [
       "0.9838542244978108"
      ]
     },
     "execution_count": 84,
     "metadata": {},
     "output_type": "execute_result"
    }
   ],
   "source": [
    "# f1 score\n",
    "f1_score_sv_classifier = f1_score(y_test, y_test_pred_sv_classifier, average = \"weighted\")\n",
    "f1_score_sv_classifier"
   ]
  },
  {
   "cell_type": "code",
   "execution_count": 85,
   "metadata": {},
   "outputs": [
    {
     "name": "stdout",
     "output_type": "stream",
     "text": [
      "              precision    recall  f1-score   support\n",
      "\n",
      "           0       0.98      0.99      0.99     20259\n",
      "           1       1.00      0.99      0.99     13724\n",
      "           2       0.88      0.81      0.85       302\n",
      "           3       0.98      0.94      0.96      3491\n",
      "           4       0.43      0.21      0.29        14\n",
      "\n",
      "    accuracy                           0.98     37790\n",
      "   macro avg       0.85      0.79      0.81     37790\n",
      "weighted avg       0.98      0.98      0.98     37790\n",
      "\n"
     ]
    }
   ],
   "source": [
    "# classification report\n",
    "classification_report_sv_classifier = classification_report(y_test, y_test_pred_sv_classifier)\n",
    "print(classification_report_sv_classifier)"
   ]
  },
  {
   "cell_type": "code",
   "execution_count": 86,
   "metadata": {},
   "outputs": [
    {
     "data": {
      "image/png": "[encoded data removed]",
      "text/plain": [
       "<Figure size 2000x1000 with 1 Axes>"
      ]
     },
     "metadata": {},
     "output_type": "display_data"
    }
   ],
   "source": [
    "# comparison of accuracy scores of different models of predictions made using the training data\n",
    "model_names = [\n",
    "    \"Logistic Regression OvR\",\n",
    "    \"kNN Classifier\",\n",
    "    \"Decision Tree Classifier\",\n",
    "    \"Random Forest Classifier\",\n",
    "    \"GBDT Classifier\",\n",
    "    \"Support Vector Classifier\"\n",
    "]\n",
    "values = [\n",
    "    train_accuracy_log_reg_ovr,\n",
    "    train_accuracy_knn_classifier,\n",
    "    train_accuracy_dt_classifier,\n",
    "    train_accuracy_rf_classifier,\n",
    "    train_accuracy_gbdt_classifier, \n",
    "    train_accuracy_sv_classifier\n",
    "]\n",
    "plt.figure(figsize = (20, 10))\n",
    "plt.title(\"Accuracy scores of predictions made using the training data\")\n",
    "sns.barplot(x = model_names, y = values, color = \"steelblue\")\n",
    "for i, (model_name, value) in enumerate(zip(model_names, values)):\n",
    "    plt.text(i, value, f\"{value:.5f}\", ha='center', va='bottom', fontsize=14)\n",
    "plt.savefig(\"../artifacts/models_train_accuracy_scores.png\")\n",
    "plt.show()"
   ]
  },
  {
   "cell_type": "code",
   "execution_count": 87,
   "metadata": {},
   "outputs": [
    {
     "data": {
      "image/png": "[encoded data removed]",
      "text/plain": [
       "<Figure size 2000x1000 with 1 Axes>"
      ]
     },
     "metadata": {},
     "output_type": "display_data"
    }
   ],
   "source": [
    "# comparison of accuracy scores of different models of predictions made using the testing data\n",
    "model_names = [\n",
    "    \"Logistic Regression OvR\",\n",
    "    \"kNN Classifier\",\n",
    "    \"Decision Tree Classifier\",\n",
    "    \"Random Forest Classifier\",\n",
    "    \"GBDT Classifier\",\n",
    "    \"Support Vector Classifier\"\n",
    "]\n",
    "values = [\n",
    "    test_accuracy_log_reg_ovr,\n",
    "    test_accuracy_knn_classifier,\n",
    "    test_accuracy_dt_classifier,\n",
    "    test_accuracy_rf_classifier,\n",
    "    test_accuracy_gbdt_classifier, \n",
    "    test_accuracy_sv_classifier\n",
    "]\n",
    "plt.figure(figsize = (20, 10))\n",
    "plt.title(\"Accuracy scores of predictions made using the testing data\")\n",
    "sns.barplot(x = model_names, y = values, color = \"steelblue\")\n",
    "for i, (model_name, value) in enumerate(zip(model_names, values)):\n",
    "    plt.text(i, value, f\"{value:.5f}\", ha='center', va='bottom', fontsize=14)\n",
    "plt.savefig(\"../artifacts/models_test_accuracy_scores.png\")\n",
    "plt.show()"
   ]
  },
  {
   "cell_type": "code",
   "execution_count": 88,
   "metadata": {},
   "outputs": [
    {
     "data": {
      "image/png": "[encoded data removed]",
      "text/plain": [
       "<Figure size 2000x1000 with 1 Axes>"
      ]
     },
     "metadata": {},
     "output_type": "display_data"
    }
   ],
   "source": [
    "# comparison of precision scores\n",
    "model_names = [\n",
    "    \"Logistic Regression OvR\",\n",
    "    \"kNN Classifier\",\n",
    "    \"Decision Tree Classifier\",\n",
    "    \"Random Forest Classifier\",\n",
    "    \"GBDT Classifier\",\n",
    "    \"Support Vector Classifier\"\n",
    "]\n",
    "values = [\n",
    "    precision_score_log_reg_ovr,\n",
    "    precision_score_knn_classifier,\n",
    "    precision_score_dt_classifier,\n",
    "    precision_score_rf_classifier,\n",
    "    precision_score_gbdt_classifier, \n",
    "    precision_score_sv_classifier\n",
    "]\n",
    "plt.figure(figsize = (20, 10))\n",
    "plt.title(\"Precision scores\")\n",
    "sns.barplot(x = model_names, y = values, color = \"steelblue\")\n",
    "for i, (model_name, value) in enumerate(zip(model_names, values)):\n",
    "    plt.text(i, value, f\"{value:.5f}\", ha='center', va='bottom', fontsize=14)\n",
    "plt.savefig(\"../artifacts/models_precision_scores.png\")\n",
    "plt.show()"
   ]
  },
  {
   "cell_type": "code",
   "execution_count": 89,
   "metadata": {},
   "outputs": [
    {
     "data": {
      "image/png": "[encoded data removed]",
      "text/plain": [
       "<Figure size 2000x1000 with 1 Axes>"
      ]
     },
     "metadata": {},
     "output_type": "display_data"
    }
   ],
   "source": [
    "# comparison of recall scores\n",
    "model_names = [\n",
    "    \"Logistic Regression OvR\",\n",
    "    \"kNN Classifier\",\n",
    "    \"Decision Tree Classifier\",\n",
    "    \"Random Forest Classifier\",\n",
    "    \"GBDT Classifier\",\n",
    "    \"Support Vector Classifier\"\n",
    "]\n",
    "values = [\n",
    "    recall_score_log_reg_ovr,\n",
    "    recall_score_knn_classifier,\n",
    "    recall_score_dt_classifier,\n",
    "    recall_score_rf_classifier,\n",
    "    recall_score_gbdt_classifier, \n",
    "    recall_score_sv_classifier\n",
    "]\n",
    "plt.figure(figsize = (20, 10))\n",
    "plt.title(\"Recall scores\")\n",
    "sns.barplot(x = model_names, y = values, color = \"steelblue\")\n",
    "for i, (model_name, value) in enumerate(zip(model_names, values)):\n",
    "    plt.text(i, value, f\"{value:.5f}\", ha='center', va='bottom', fontsize=14)\n",
    "plt.savefig(\"../artifacts/models_recall_scores.png\")\n",
    "plt.show()"
   ]
  },
  {
   "cell_type": "code",
   "execution_count": 90,
   "metadata": {},
   "outputs": [
    {
     "data": {
      "image/png": "[encoded data removed]",
      "text/plain": [
       "<Figure size 2000x1000 with 1 Axes>"
      ]
     },
     "metadata": {},
     "output_type": "display_data"
    }
   ],
   "source": [
    "# comparison of f1 scores\n",
    "model_names = [\n",
    "    \"Logistic Regression OvR\",\n",
    "    \"kNN Classifier\",\n",
    "    \"Decision Tree Classifier\",\n",
    "    \"Random Forest Classifier\",\n",
    "    \"GBDT Classifier\",\n",
    "    \"Support Vector Classifier\"\n",
    "]\n",
    "values = [\n",
    "    f1_score_log_reg_ovr,\n",
    "    f1_score_knn_classifier,\n",
    "    f1_score_dt_classifier,\n",
    "    f1_score_rf_classifier,\n",
    "    f1_score_gbdt_classifier, \n",
    "    f1_score_sv_classifier\n",
    "]\n",
    "plt.figure(figsize = (20, 10))\n",
    "plt.title(\"F1 scores\")\n",
    "sns.barplot(x = model_names, y = values, color = \"steelblue\")\n",
    "for i, (model_name, value) in enumerate(zip(model_names, values)):\n",
    "    plt.text(i, value, f\"{value:.5f}\", ha='center', va='bottom', fontsize=14)\n",
    "plt.savefig(\"../artifacts/models_f1_scores.png\")\n",
    "plt.show()"
   ]
  },
  {
   "cell_type": "code",
   "execution_count": 91,
   "metadata": {},
   "outputs": [
    {
     "data": {
      "image/png": "[encoded data removed]",
      "text/plain": [
       "<Figure size 2000x1000 with 1 Axes>"
      ]
     },
     "metadata": {},
     "output_type": "display_data"
    }
   ],
   "source": [
    "# comparison of training time\n",
    "model_names = [\n",
    "    \"Logistic Regression OvR\",\n",
    "    \"kNN Classifier\",\n",
    "    \"Decision Tree Classifier\",\n",
    "    \"Random Forest Classifier\",\n",
    "    \"GBDT Classifier\",\n",
    "    \"Support Vector Classifier\"\n",
    "]\n",
    "values = [\n",
    "    training_time_log_reg_ovr,\n",
    "    training_time_knn_classifier,\n",
    "    training_time_dt_classifier,\n",
    "    training_time_rf_classifier,\n",
    "    training_time_gbdt_classifier, \n",
    "    training_time_sv_classifier\n",
    "]\n",
    "plt.figure(figsize = (20, 10))\n",
    "plt.title(\"Training time\")\n",
    "sns.barplot(x = model_names, y = values, color = \"steelblue\")\n",
    "for i, (model_name, value) in enumerate(zip(model_names, values)):\n",
    "    plt.text(i, value + 0.02, f\"{value:.2f}s\", ha='center', va='bottom', fontsize=14)\n",
    "plt.savefig(\"../artifacts/models_training_time.png\")\n",
    "plt.show()"
   ]
  },
  {
   "cell_type": "code",
   "execution_count": 92,
   "metadata": {},
   "outputs": [
    {
     "data": {
      "image/png": "[encoded data removed]",
      "text/plain": [
       "<Figure size 2000x1000 with 1 Axes>"
      ]
     },
     "metadata": {},
     "output_type": "display_data"
    }
   ],
   "source": [
    "# comparison of prediction time on testing dataset\n",
    "model_names = [\n",
    "    \"Logistic Regression OvR\",\n",
    "    \"kNN Classifier\",\n",
    "    \"Decision Tree Classifier\",\n",
    "    \"Random Forest Classifier\",\n",
    "    \"GBDT Classifier\",\n",
    "    \"Support Vector Classifier\"\n",
    "]\n",
    "values = [\n",
    "    prediction_time_log_reg_ovr,\n",
    "    prediction_time_knn_classifier,\n",
    "    prediction_time_dt_classifier,\n",
    "    prediction_time_rf_classifier,\n",
    "    prediction_time_gbdt_classifier, \n",
    "    prediction_time_sv_classifier\n",
    "]\n",
    "plt.figure(figsize = (20, 10))\n",
    "plt.title(\"Prediction time\")\n",
    "sns.barplot(x = model_names, y = values, color = \"steelblue\")\n",
    "for i, (model_name, value) in enumerate(zip(model_names, values)):\n",
    "    plt.text(i, value + 0.02, f\"{value:.2f}s\", ha='center', va='bottom', fontsize=14)\n",
    "plt.savefig(\"../artifacts/models_prediction_time.png\")\n",
    "plt.show()"
   ]
  },
  {
   "cell_type": "code",
   "execution_count": null,
   "metadata": {},
   "outputs": [],
   "source": []
  }
 ],
 "metadata": {
  "kernelspec": {
   "display_name": "Python 3",
   "language": "python",
   "name": "python3"
  },
  "language_info": {
   "codemirror_mode": {
    "name": "ipython",
    "version": 3
   },
   "file_extension": ".py",
   "mimetype": "text/x-python",
   "name": "python",
   "nbconvert_exporter": "python",
   "pygments_lexer": "ipython3",
   "version": "3.11.2"
  }
 },
 "nbformat": 4,
 "nbformat_minor": 2
}
