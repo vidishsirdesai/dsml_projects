{
 "cells": [
  {
   "cell_type": "code",
   "execution_count": 1,
   "metadata": {},
   "outputs": [],
   "source": [
    "# importing packages\n",
    "import numpy as np\n",
    "import pandas as pd\n",
    "import matplotlib.pyplot as plt\n",
    "import seaborn as sns\n",
    "import warnings"
   ]
  },
  {
   "cell_type": "code",
   "execution_count": 2,
   "metadata": {},
   "outputs": [],
   "source": [
    "# configuring the notebook\n",
    "pd.set_option(\"display.max_columns\", None)\n",
    "sns.set_theme(style = \"whitegrid\")\n",
    "warnings.filterwarnings(\"ignore\")"
   ]
  },
  {
   "cell_type": "code",
   "execution_count": 3,
   "metadata": {},
   "outputs": [
    {
     "data": {
      "text/html": [
       "<div>\n",
       "<style scoped>\n",
       "    .dataframe tbody tr th:only-of-type {\n",
       "        vertical-align: middle;\n",
       "    }\n",
       "\n",
       "    .dataframe tbody tr th {\n",
       "        vertical-align: top;\n",
       "    }\n",
       "\n",
       "    .dataframe thead th {\n",
       "        text-align: right;\n",
       "    }\n",
       "</style>\n",
       "<table border=\"1\" class=\"dataframe\">\n",
       "  <thead>\n",
       "    <tr style=\"text-align: right;\">\n",
       "      <th></th>\n",
       "      <th>State Name</th>\n",
       "      <th>District Name</th>\n",
       "      <th>Market Name</th>\n",
       "      <th>Variety</th>\n",
       "      <th>Group</th>\n",
       "      <th>Arrivals (Tonnes)</th>\n",
       "      <th>Min Price (Rs./Quintal)</th>\n",
       "      <th>Max Price (Rs./Quintal)</th>\n",
       "      <th>Modal Price (Rs./Quintal)</th>\n",
       "      <th>Reported Date</th>\n",
       "      <th>Unnamed: 10</th>\n",
       "    </tr>\n",
       "  </thead>\n",
       "  <tbody>\n",
       "    <tr>\n",
       "      <th>0</th>\n",
       "      <td>Karnataka</td>\n",
       "      <td>Bangalore</td>\n",
       "      <td>Bangalore</td>\n",
       "      <td>Bangalore-Samall</td>\n",
       "      <td>Vegetables</td>\n",
       "      <td>133.0</td>\n",
       "      <td>400</td>\n",
       "      <td>440</td>\n",
       "      <td>420</td>\n",
       "      <td>06 Sep 2006</td>\n",
       "      <td>NaN</td>\n",
       "    </tr>\n",
       "    <tr>\n",
       "      <th>1</th>\n",
       "      <td>Karnataka</td>\n",
       "      <td>Bangalore</td>\n",
       "      <td>Bangalore</td>\n",
       "      <td>Bangalore-Samall</td>\n",
       "      <td>Vegetables</td>\n",
       "      <td>230.0</td>\n",
       "      <td>200</td>\n",
       "      <td>400</td>\n",
       "      <td>300</td>\n",
       "      <td>18 Aug 2016</td>\n",
       "      <td>NaN</td>\n",
       "    </tr>\n",
       "    <tr>\n",
       "      <th>2</th>\n",
       "      <td>Karnataka</td>\n",
       "      <td>Bangalore</td>\n",
       "      <td>Bangalore</td>\n",
       "      <td>Bangalore-Samall</td>\n",
       "      <td>Vegetables</td>\n",
       "      <td>301.0</td>\n",
       "      <td>300</td>\n",
       "      <td>340</td>\n",
       "      <td>320</td>\n",
       "      <td>04 Oct 2006</td>\n",
       "      <td>NaN</td>\n",
       "    </tr>\n",
       "    <tr>\n",
       "      <th>3</th>\n",
       "      <td>Karnataka</td>\n",
       "      <td>Bangalore</td>\n",
       "      <td>Bangalore</td>\n",
       "      <td>Bangalore-Samall</td>\n",
       "      <td>Vegetables</td>\n",
       "      <td>342.0</td>\n",
       "      <td>800</td>\n",
       "      <td>1400</td>\n",
       "      <td>1100</td>\n",
       "      <td>29 Jun 2015</td>\n",
       "      <td>NaN</td>\n",
       "    </tr>\n",
       "    <tr>\n",
       "      <th>4</th>\n",
       "      <td>Karnataka</td>\n",
       "      <td>Bangalore</td>\n",
       "      <td>Bangalore</td>\n",
       "      <td>Bangalore-Samall</td>\n",
       "      <td>Vegetables</td>\n",
       "      <td>344.0</td>\n",
       "      <td>1200</td>\n",
       "      <td>2400</td>\n",
       "      <td>1700</td>\n",
       "      <td>10 Aug 2015</td>\n",
       "      <td>NaN</td>\n",
       "    </tr>\n",
       "  </tbody>\n",
       "</table>\n",
       "</div>"
      ],
      "text/plain": [
       "  State Name District Name Market Name           Variety       Group  \\\n",
       "0  Karnataka     Bangalore   Bangalore  Bangalore-Samall  Vegetables   \n",
       "1  Karnataka     Bangalore   Bangalore  Bangalore-Samall  Vegetables   \n",
       "2  Karnataka     Bangalore   Bangalore  Bangalore-Samall  Vegetables   \n",
       "3  Karnataka     Bangalore   Bangalore  Bangalore-Samall  Vegetables   \n",
       "4  Karnataka     Bangalore   Bangalore  Bangalore-Samall  Vegetables   \n",
       "\n",
       "   Arrivals (Tonnes)  Min Price (Rs./Quintal)  Max Price (Rs./Quintal)  \\\n",
       "0              133.0                      400                      440   \n",
       "1              230.0                      200                      400   \n",
       "2              301.0                      300                      340   \n",
       "3              342.0                      800                     1400   \n",
       "4              344.0                     1200                     2400   \n",
       "\n",
       "  Modal Price (Rs./Quintal) Reported Date  Unnamed: 10  \n",
       "0                       420   06 Sep 2006          NaN  \n",
       "1                       300   18 Aug 2016          NaN  \n",
       "2                       320   04 Oct 2006          NaN  \n",
       "3                      1100   29 Jun 2015          NaN  \n",
       "4                      1700   10 Aug 2015          NaN  "
      ]
     },
     "execution_count": 3,
     "metadata": {},
     "output_type": "execute_result"
    }
   ],
   "source": [
    "df = pd.read_csv(\"onion_prices_bangalore_2004_2024.csv\")\n",
    "df.head()"
   ]
  },
  {
   "cell_type": "code",
   "execution_count": 4,
   "metadata": {},
   "outputs": [
    {
     "data": {
      "text/plain": [
       "(12668, 11)"
      ]
     },
     "execution_count": 4,
     "metadata": {},
     "output_type": "execute_result"
    }
   ],
   "source": [
    "df.shape"
   ]
  },
  {
   "cell_type": "code",
   "execution_count": 5,
   "metadata": {},
   "outputs": [
    {
     "name": "stdout",
     "output_type": "stream",
     "text": [
      "<class 'pandas.core.frame.DataFrame'>\n",
      "RangeIndex: 12668 entries, 0 to 12667\n",
      "Data columns (total 11 columns):\n",
      " #   Column                     Non-Null Count  Dtype  \n",
      "---  ------                     --------------  -----  \n",
      " 0   State Name                 12668 non-null  object \n",
      " 1   District Name              12668 non-null  object \n",
      " 2   Market Name                12668 non-null  object \n",
      " 3   Variety                    12668 non-null  object \n",
      " 4   Group                      12668 non-null  object \n",
      " 5   Arrivals (Tonnes)          12668 non-null  float64\n",
      " 6   Min Price (Rs./Quintal)    12668 non-null  int64  \n",
      " 7   Max Price (Rs./Quintal)    12668 non-null  int64  \n",
      " 8   Modal Price (Rs./Quintal)  12668 non-null  object \n",
      " 9   Reported Date              12667 non-null  object \n",
      " 10  Unnamed: 10                0 non-null      float64\n",
      "dtypes: float64(2), int64(2), object(7)\n",
      "memory usage: 1.1+ MB\n"
     ]
    }
   ],
   "source": [
    "df.info()"
   ]
  },
  {
   "cell_type": "code",
   "execution_count": 6,
   "metadata": {},
   "outputs": [
    {
     "data": {
      "text/html": [
       "<div>\n",
       "<style scoped>\n",
       "    .dataframe tbody tr th:only-of-type {\n",
       "        vertical-align: middle;\n",
       "    }\n",
       "\n",
       "    .dataframe tbody tr th {\n",
       "        vertical-align: top;\n",
       "    }\n",
       "\n",
       "    .dataframe thead th {\n",
       "        text-align: right;\n",
       "    }\n",
       "</style>\n",
       "<table border=\"1\" class=\"dataframe\">\n",
       "  <thead>\n",
       "    <tr style=\"text-align: right;\">\n",
       "      <th></th>\n",
       "      <th>count</th>\n",
       "      <th>mean</th>\n",
       "      <th>std</th>\n",
       "      <th>min</th>\n",
       "      <th>25%</th>\n",
       "      <th>50%</th>\n",
       "      <th>75%</th>\n",
       "      <th>max</th>\n",
       "    </tr>\n",
       "  </thead>\n",
       "  <tbody>\n",
       "    <tr>\n",
       "      <th>Arrivals (Tonnes)</th>\n",
       "      <td>12668.0</td>\n",
       "      <td>492.541364</td>\n",
       "      <td>287.567975</td>\n",
       "      <td>0.0</td>\n",
       "      <td>244.0</td>\n",
       "      <td>488.0</td>\n",
       "      <td>744.0</td>\n",
       "      <td>1200.0</td>\n",
       "    </tr>\n",
       "    <tr>\n",
       "      <th>Min Price (Rs./Quintal)</th>\n",
       "      <td>12668.0</td>\n",
       "      <td>1056.107515</td>\n",
       "      <td>884.339898</td>\n",
       "      <td>50.0</td>\n",
       "      <td>500.0</td>\n",
       "      <td>800.0</td>\n",
       "      <td>1400.0</td>\n",
       "      <td>13000.0</td>\n",
       "    </tr>\n",
       "    <tr>\n",
       "      <th>Max Price (Rs./Quintal)</th>\n",
       "      <td>12668.0</td>\n",
       "      <td>1495.384670</td>\n",
       "      <td>1137.914226</td>\n",
       "      <td>200.0</td>\n",
       "      <td>800.0</td>\n",
       "      <td>1200.0</td>\n",
       "      <td>1800.0</td>\n",
       "      <td>22500.0</td>\n",
       "    </tr>\n",
       "    <tr>\n",
       "      <th>Unnamed: 10</th>\n",
       "      <td>0.0</td>\n",
       "      <td>NaN</td>\n",
       "      <td>NaN</td>\n",
       "      <td>NaN</td>\n",
       "      <td>NaN</td>\n",
       "      <td>NaN</td>\n",
       "      <td>NaN</td>\n",
       "      <td>NaN</td>\n",
       "    </tr>\n",
       "  </tbody>\n",
       "</table>\n",
       "</div>"
      ],
      "text/plain": [
       "                           count         mean          std    min    25%  \\\n",
       "Arrivals (Tonnes)        12668.0   492.541364   287.567975    0.0  244.0   \n",
       "Min Price (Rs./Quintal)  12668.0  1056.107515   884.339898   50.0  500.0   \n",
       "Max Price (Rs./Quintal)  12668.0  1495.384670  1137.914226  200.0  800.0   \n",
       "Unnamed: 10                  0.0          NaN          NaN    NaN    NaN   \n",
       "\n",
       "                            50%     75%      max  \n",
       "Arrivals (Tonnes)         488.0   744.0   1200.0  \n",
       "Min Price (Rs./Quintal)   800.0  1400.0  13000.0  \n",
       "Max Price (Rs./Quintal)  1200.0  1800.0  22500.0  \n",
       "Unnamed: 10                 NaN     NaN      NaN  "
      ]
     },
     "execution_count": 6,
     "metadata": {},
     "output_type": "execute_result"
    }
   ],
   "source": [
    "df.describe().T"
   ]
  },
  {
   "cell_type": "code",
   "execution_count": null,
   "metadata": {},
   "outputs": [],
   "source": []
  }
 ],
 "metadata": {
  "kernelspec": {
   "display_name": "Python 3",
   "language": "python",
   "name": "python3"
  },
  "language_info": {
   "codemirror_mode": {
    "name": "ipython",
    "version": 3
   },
   "file_extension": ".py",
   "mimetype": "text/x-python",
   "name": "python",
   "nbconvert_exporter": "python",
   "pygments_lexer": "ipython3",
   "version": "3.11.2"
  }
 },
 "nbformat": 4,
 "nbformat_minor": 2
}
